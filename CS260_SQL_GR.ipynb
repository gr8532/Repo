{
  "nbformat": 4,
  "nbformat_minor": 0,
  "metadata": {
    "colab": {
      "provenance": [],
      "collapsed_sections": [
        "opQ9-qBGdXPw",
        "3rkDXdDofQ2v",
        "lc1kcgmUt0lp",
        "eSAOJtkR5Y8r",
        "zL7ZtDbuABPE",
        "qeA7k8GqAFl-",
        "iYTP94ANtyXs",
        "ZpUeBMU6tyXy",
        "TYLqvKOruTlN",
        "apKmV1gCuTlV",
        "jSzaiHO7uTlW",
        "aYPVAudUviNB"
      ]
    },
    "kernelspec": {
      "name": "python3",
      "display_name": "Python 3"
    },
    "language_info": {
      "name": "python"
    }
  },
  "cells": [
    {
      "cell_type": "markdown",
      "source": [
        "# CS-260 Final Project - Fall 2023"
      ],
      "metadata": {
        "id": "Jq-L9woAHIsP"
      }
    },
    {
      "cell_type": "markdown",
      "source": [
        "Taylor DeStefano, Nicole Imbriano, and Glenn Rice\n"
      ],
      "metadata": {
        "id": "umWOqkcXHSCs"
      }
    },
    {
      "cell_type": "code",
      "execution_count": null,
      "metadata": {
        "id": "fuhOgYefGGGZ"
      },
      "outputs": [],
      "source": [
        "import numpy as np\n",
        "import pandas as pd\n",
        "import sqlite3 as sql\n",
        "import matplotlib.pyplot as plt\n",
        "plt.style.use('fivethirtyeight')\n",
        "import folium"
      ]
    },
    {
      "cell_type": "code",
      "source": [
        "try:\n",
        "  titles = pd.read_csv('titles.csv')\n",
        "  titles = titles.dropna(axis = 'columns', how = 'all')\n",
        "\n",
        "  conn = sql.connect('titles.db')\n",
        "  titles.to_sql('titles', conn)\n",
        "except sql.Error as error:\n",
        "  print(\"Issues Creating Database/Connection\")\n",
        "  print(error)"
      ],
      "metadata": {
        "id": "mwGKOrB_UKxo"
      },
      "execution_count": null,
      "outputs": []
    },
    {
      "cell_type": "code",
      "source": [
        "try:\n",
        "  credits = pd.read_csv('credits.csv')\n",
        "  credits = credits.dropna(axis = 'columns', how = 'all')\n",
        "\n",
        "  conn = sql.connect('credits.db')\n",
        "  titles.to_sql('credits', conn)\n",
        "except sql.Error as error:\n",
        "  print(\"Issues Creating Database/Connection\")\n",
        "  print(error)"
      ],
      "metadata": {
        "id": "No3xJtLVvbR1"
      },
      "execution_count": null,
      "outputs": []
    },
    {
      "cell_type": "markdown",
      "source": [
        "## 1. Introduction"
      ],
      "metadata": {
        "id": "PuXQBNXHIV8a"
      }
    },
    {
      "cell_type": "markdown",
      "source": [
        "For our final project, we chose to explore Netflix and the movies and TV shows that they offer. The information that we gathered ranges from the title's release year, its age certification, runtime, ratings, and more. Our data encompasses nearly 6,000 different titles, and we look to answer the following questions:\n",
        "\n",
        "How do TMDB scores compare to IMDb scores?\n",
        "\n",
        "What is the relationship between runtime and IMDb score for shows on Netflix?\n",
        "\n",
        "What is the relationship between the number of seasons and the IMDB score for TV shows?\n",
        "\n",
        "How many shows fall into different age certification categories?\n",
        "\n",
        "How strong is the correlation between age certification and IMDb score?\n",
        "\n",
        "What is the distribution of runtimes for movies on Netflix?\n",
        "\n",
        "What are the top production countries for Netflix content outside of the US?\n",
        "\n",
        "How does the runtime vary by the release year of the movie?"
      ],
      "metadata": {
        "id": "lvJznRiRIgIa"
      }
    },
    {
      "cell_type": "markdown",
      "source": [
        "# 2. Data"
      ],
      "metadata": {
        "id": "KBf4d7ajIXxW"
      }
    },
    {
      "cell_type": "markdown",
      "source": [
        "## 2.1 Variables"
      ],
      "metadata": {
        "id": "573220HWIr2v"
      }
    },
    {
      "cell_type": "code",
      "source": [
        "sql_statement = \"\"\"\n",
        "                SELECT  *\n",
        "                FROM    titles\n",
        "                \"\"\"\n",
        "\n",
        "titles_all = pd.read_sql_query(sql_statement, conn)\n",
        "titles_all"
      ],
      "metadata": {
        "id": "H51FXUAjvuG3"
      },
      "execution_count": null,
      "outputs": []
    },
    {
      "cell_type": "code",
      "source": [
        "sql_statement = \"\"\"\n",
        "                SELECT  *\n",
        "                FROM    credits\n",
        "                \"\"\"\n",
        "\n",
        "credits_all = pd.read_sql_query(sql_statement, conn)\n",
        "credits_all"
      ],
      "metadata": {
        "id": "T-4PboZSvvW1"
      },
      "execution_count": null,
      "outputs": []
    },
    {
      "cell_type": "markdown",
      "source": [
        "Link to Dataset: [Netflix TV Shows and Movies](https://www.kaggle.com/datasets/victorsoeiro/netflix-tv-shows-and-movies?select=titles.csv)"
      ],
      "metadata": {
        "id": "Hf9cIbE3dtNm"
      }
    },
    {
      "cell_type": "markdown",
      "source": [
        "The data was collected from JustWatch and Kaggle and was uploaded by the creator on July 26th, 2022. The creator used web scraping methods by using Python packages in order to obtain the data to organize and later analyze.\n",
        "\n",
        "The data is two comprehensive datasets of all shows available on Netflix in the United States at the time of collection. Our datasets have a usability score of 10.00 on Kaggle, attesting to the validity and reliability of our data.\n",
        "\n",
        "There are two csv files in the dataset:\n",
        "> **Titles.csv** has 15 columns and 5,851 rows\n",
        "\n",
        "> **Credits.csv** has 5 columns and 77,802 rows\n",
        "\n",
        "\n"
      ],
      "metadata": {
        "id": "dwILGzXUXjB5"
      }
    },
    {
      "cell_type": "markdown",
      "source": [
        "## 2.2 Data Types"
      ],
      "metadata": {
        "id": "wjyuU2CQvyj5"
      }
    },
    {
      "cell_type": "markdown",
      "source": [
        "**titles.csv** has 15 different columns, each explained below:\n",
        "\n",
        "\n",
        "*   **id** - contains the movie or show ID\n",
        "*   **title** - contains the name of the movie or show\n",
        "*   **type** - denotes whether the title is a movie or a tv show\n",
        "*   **description** - contains a description of the movie or show\n",
        "*   **release_year** - contains the release year of the movie or show\n",
        "*   **age_certification** - contains the age certification of the movie or show\n",
        "*   **runtime** - contains the runtime of the entire movie or the average runtime of an episode\n",
        "*   **genres** - contains the genre of the movie or show\n",
        "*   **production_countries** - contains the production country or countries of the movie or show\n",
        "*   **seasons** - contains the number of season of the show (null if title is a movie)\n",
        "*   **imdb_id** - contains the IMDB id\n",
        "*   **imdb_score** - contains the IMDB score of the movie or show\n",
        "*   **imdb_votes** - contains the IMDB votes of the movie or show\n",
        "*   **tmdb_popularity** - contains the TMDB popularity of the movie or show\n",
        "*   **tmdb_score** - contains the TMDB score of the movie or show\n",
        "\n"
      ],
      "metadata": {
        "id": "Xg_71DDtvzL7"
      }
    },
    {
      "cell_type": "markdown",
      "source": [
        "**credits.csv** has 5 different columns, each explained below:\n",
        "\n",
        "\n",
        "*   **person_id** - contains a unique ID for each person\n",
        "*   **id** - contains an ID for each movie or show title\n",
        "*   **name** - contains the name of the person in the table\n",
        "*   **character** - contains the name of the character in the title (null if non-cast)\n",
        "*   **role** - contains the role a person palyed in the title\n",
        "\n"
      ],
      "metadata": {
        "id": "V-O5k8YAx2vz"
      }
    },
    {
      "cell_type": "markdown",
      "source": [
        "# 3. Analysis Questions"
      ],
      "metadata": {
        "id": "u3Tuh7HfIZQM"
      }
    },
    {
      "cell_type": "markdown",
      "source": [
        "##How do TMDB scores compare to IMDb scores? (Glenn)"
      ],
      "metadata": {
        "id": "opQ9-qBGdXPw"
      }
    },
    {
      "cell_type": "markdown",
      "source": [
        "###Code"
      ],
      "metadata": {
        "id": "VXqTuPFYfaes"
      }
    },
    {
      "cell_type": "code",
      "source": [
        "score_cor = \"\"\"\n",
        "            SELECT title, imdb_score, tmdb_score\n",
        "            FROM titles\n",
        "            WHERE imdb_score <> \"NaN\" AND tmdb_score <> \"NaN\"\n",
        "            limit 200\n",
        "            \"\"\"\n",
        "score_cor = pd.read_sql_query(score_cor, conn)\n",
        "score_cor"
      ],
      "metadata": {
        "colab": {
          "base_uri": "https://localhost:8080/",
          "height": 423
        },
        "id": "O94vTKSQd0e2",
        "outputId": "4a1d3b42-b750-400e-be2a-7c4934d93a24"
      },
      "execution_count": null,
      "outputs": [
        {
          "output_type": "execute_result",
          "data": {
            "text/plain": [
              "                               title  imdb_score  tmdb_score\n",
              "0                        Taxi Driver         8.2       8.179\n",
              "1                        Deliverance         7.7       7.300\n",
              "2    Monty Python and the Holy Grail         8.2       7.811\n",
              "3                    The Dirty Dozen         7.7       7.600\n",
              "4       Monty Python's Flying Circus         8.8       8.306\n",
              "..                               ...         ...         ...\n",
              "195                        The Other         5.9       5.900\n",
              "196                            Yodha         4.5       5.000\n",
              "197                     The Emigrant         6.5       6.000\n",
              "198                    Hello Brother         4.6       5.300\n",
              "199                         Dushmani         5.0       7.500\n",
              "\n",
              "[200 rows x 3 columns]"
            ],
            "text/html": [
              "\n",
              "  <div id=\"df-5b2f782a-4635-463a-a923-364228f10c2c\" class=\"colab-df-container\">\n",
              "    <div>\n",
              "<style scoped>\n",
              "    .dataframe tbody tr th:only-of-type {\n",
              "        vertical-align: middle;\n",
              "    }\n",
              "\n",
              "    .dataframe tbody tr th {\n",
              "        vertical-align: top;\n",
              "    }\n",
              "\n",
              "    .dataframe thead th {\n",
              "        text-align: right;\n",
              "    }\n",
              "</style>\n",
              "<table border=\"1\" class=\"dataframe\">\n",
              "  <thead>\n",
              "    <tr style=\"text-align: right;\">\n",
              "      <th></th>\n",
              "      <th>title</th>\n",
              "      <th>imdb_score</th>\n",
              "      <th>tmdb_score</th>\n",
              "    </tr>\n",
              "  </thead>\n",
              "  <tbody>\n",
              "    <tr>\n",
              "      <th>0</th>\n",
              "      <td>Taxi Driver</td>\n",
              "      <td>8.2</td>\n",
              "      <td>8.179</td>\n",
              "    </tr>\n",
              "    <tr>\n",
              "      <th>1</th>\n",
              "      <td>Deliverance</td>\n",
              "      <td>7.7</td>\n",
              "      <td>7.300</td>\n",
              "    </tr>\n",
              "    <tr>\n",
              "      <th>2</th>\n",
              "      <td>Monty Python and the Holy Grail</td>\n",
              "      <td>8.2</td>\n",
              "      <td>7.811</td>\n",
              "    </tr>\n",
              "    <tr>\n",
              "      <th>3</th>\n",
              "      <td>The Dirty Dozen</td>\n",
              "      <td>7.7</td>\n",
              "      <td>7.600</td>\n",
              "    </tr>\n",
              "    <tr>\n",
              "      <th>4</th>\n",
              "      <td>Monty Python's Flying Circus</td>\n",
              "      <td>8.8</td>\n",
              "      <td>8.306</td>\n",
              "    </tr>\n",
              "    <tr>\n",
              "      <th>...</th>\n",
              "      <td>...</td>\n",
              "      <td>...</td>\n",
              "      <td>...</td>\n",
              "    </tr>\n",
              "    <tr>\n",
              "      <th>195</th>\n",
              "      <td>The Other</td>\n",
              "      <td>5.9</td>\n",
              "      <td>5.900</td>\n",
              "    </tr>\n",
              "    <tr>\n",
              "      <th>196</th>\n",
              "      <td>Yodha</td>\n",
              "      <td>4.5</td>\n",
              "      <td>5.000</td>\n",
              "    </tr>\n",
              "    <tr>\n",
              "      <th>197</th>\n",
              "      <td>The Emigrant</td>\n",
              "      <td>6.5</td>\n",
              "      <td>6.000</td>\n",
              "    </tr>\n",
              "    <tr>\n",
              "      <th>198</th>\n",
              "      <td>Hello Brother</td>\n",
              "      <td>4.6</td>\n",
              "      <td>5.300</td>\n",
              "    </tr>\n",
              "    <tr>\n",
              "      <th>199</th>\n",
              "      <td>Dushmani</td>\n",
              "      <td>5.0</td>\n",
              "      <td>7.500</td>\n",
              "    </tr>\n",
              "  </tbody>\n",
              "</table>\n",
              "<p>200 rows × 3 columns</p>\n",
              "</div>\n",
              "    <div class=\"colab-df-buttons\">\n",
              "\n",
              "  <div class=\"colab-df-container\">\n",
              "    <button class=\"colab-df-convert\" onclick=\"convertToInteractive('df-5b2f782a-4635-463a-a923-364228f10c2c')\"\n",
              "            title=\"Convert this dataframe to an interactive table.\"\n",
              "            style=\"display:none;\">\n",
              "\n",
              "  <svg xmlns=\"http://www.w3.org/2000/svg\" height=\"24px\" viewBox=\"0 -960 960 960\">\n",
              "    <path d=\"M120-120v-720h720v720H120Zm60-500h600v-160H180v160Zm220 220h160v-160H400v160Zm0 220h160v-160H400v160ZM180-400h160v-160H180v160Zm440 0h160v-160H620v160ZM180-180h160v-160H180v160Zm440 0h160v-160H620v160Z\"/>\n",
              "  </svg>\n",
              "    </button>\n",
              "\n",
              "  <style>\n",
              "    .colab-df-container {\n",
              "      display:flex;\n",
              "      gap: 12px;\n",
              "    }\n",
              "\n",
              "    .colab-df-convert {\n",
              "      background-color: #E8F0FE;\n",
              "      border: none;\n",
              "      border-radius: 50%;\n",
              "      cursor: pointer;\n",
              "      display: none;\n",
              "      fill: #1967D2;\n",
              "      height: 32px;\n",
              "      padding: 0 0 0 0;\n",
              "      width: 32px;\n",
              "    }\n",
              "\n",
              "    .colab-df-convert:hover {\n",
              "      background-color: #E2EBFA;\n",
              "      box-shadow: 0px 1px 2px rgba(60, 64, 67, 0.3), 0px 1px 3px 1px rgba(60, 64, 67, 0.15);\n",
              "      fill: #174EA6;\n",
              "    }\n",
              "\n",
              "    .colab-df-buttons div {\n",
              "      margin-bottom: 4px;\n",
              "    }\n",
              "\n",
              "    [theme=dark] .colab-df-convert {\n",
              "      background-color: #3B4455;\n",
              "      fill: #D2E3FC;\n",
              "    }\n",
              "\n",
              "    [theme=dark] .colab-df-convert:hover {\n",
              "      background-color: #434B5C;\n",
              "      box-shadow: 0px 1px 3px 1px rgba(0, 0, 0, 0.15);\n",
              "      filter: drop-shadow(0px 1px 2px rgba(0, 0, 0, 0.3));\n",
              "      fill: #FFFFFF;\n",
              "    }\n",
              "  </style>\n",
              "\n",
              "    <script>\n",
              "      const buttonEl =\n",
              "        document.querySelector('#df-5b2f782a-4635-463a-a923-364228f10c2c button.colab-df-convert');\n",
              "      buttonEl.style.display =\n",
              "        google.colab.kernel.accessAllowed ? 'block' : 'none';\n",
              "\n",
              "      async function convertToInteractive(key) {\n",
              "        const element = document.querySelector('#df-5b2f782a-4635-463a-a923-364228f10c2c');\n",
              "        const dataTable =\n",
              "          await google.colab.kernel.invokeFunction('convertToInteractive',\n",
              "                                                    [key], {});\n",
              "        if (!dataTable) return;\n",
              "\n",
              "        const docLinkHtml = 'Like what you see? Visit the ' +\n",
              "          '<a target=\"_blank\" href=https://colab.research.google.com/notebooks/data_table.ipynb>data table notebook</a>'\n",
              "          + ' to learn more about interactive tables.';\n",
              "        element.innerHTML = '';\n",
              "        dataTable['output_type'] = 'display_data';\n",
              "        await google.colab.output.renderOutput(dataTable, element);\n",
              "        const docLink = document.createElement('div');\n",
              "        docLink.innerHTML = docLinkHtml;\n",
              "        element.appendChild(docLink);\n",
              "      }\n",
              "    </script>\n",
              "  </div>\n",
              "\n",
              "\n",
              "<div id=\"df-ba85739d-6418-4917-9c1f-8ec49f9d26c7\">\n",
              "  <button class=\"colab-df-quickchart\" onclick=\"quickchart('df-ba85739d-6418-4917-9c1f-8ec49f9d26c7')\"\n",
              "            title=\"Suggest charts\"\n",
              "            style=\"display:none;\">\n",
              "\n",
              "<svg xmlns=\"http://www.w3.org/2000/svg\" height=\"24px\"viewBox=\"0 0 24 24\"\n",
              "     width=\"24px\">\n",
              "    <g>\n",
              "        <path d=\"M19 3H5c-1.1 0-2 .9-2 2v14c0 1.1.9 2 2 2h14c1.1 0 2-.9 2-2V5c0-1.1-.9-2-2-2zM9 17H7v-7h2v7zm4 0h-2V7h2v10zm4 0h-2v-4h2v4z\"/>\n",
              "    </g>\n",
              "</svg>\n",
              "  </button>\n",
              "\n",
              "<style>\n",
              "  .colab-df-quickchart {\n",
              "      --bg-color: #E8F0FE;\n",
              "      --fill-color: #1967D2;\n",
              "      --hover-bg-color: #E2EBFA;\n",
              "      --hover-fill-color: #174EA6;\n",
              "      --disabled-fill-color: #AAA;\n",
              "      --disabled-bg-color: #DDD;\n",
              "  }\n",
              "\n",
              "  [theme=dark] .colab-df-quickchart {\n",
              "      --bg-color: #3B4455;\n",
              "      --fill-color: #D2E3FC;\n",
              "      --hover-bg-color: #434B5C;\n",
              "      --hover-fill-color: #FFFFFF;\n",
              "      --disabled-bg-color: #3B4455;\n",
              "      --disabled-fill-color: #666;\n",
              "  }\n",
              "\n",
              "  .colab-df-quickchart {\n",
              "    background-color: var(--bg-color);\n",
              "    border: none;\n",
              "    border-radius: 50%;\n",
              "    cursor: pointer;\n",
              "    display: none;\n",
              "    fill: var(--fill-color);\n",
              "    height: 32px;\n",
              "    padding: 0;\n",
              "    width: 32px;\n",
              "  }\n",
              "\n",
              "  .colab-df-quickchart:hover {\n",
              "    background-color: var(--hover-bg-color);\n",
              "    box-shadow: 0 1px 2px rgba(60, 64, 67, 0.3), 0 1px 3px 1px rgba(60, 64, 67, 0.15);\n",
              "    fill: var(--button-hover-fill-color);\n",
              "  }\n",
              "\n",
              "  .colab-df-quickchart-complete:disabled,\n",
              "  .colab-df-quickchart-complete:disabled:hover {\n",
              "    background-color: var(--disabled-bg-color);\n",
              "    fill: var(--disabled-fill-color);\n",
              "    box-shadow: none;\n",
              "  }\n",
              "\n",
              "  .colab-df-spinner {\n",
              "    border: 2px solid var(--fill-color);\n",
              "    border-color: transparent;\n",
              "    border-bottom-color: var(--fill-color);\n",
              "    animation:\n",
              "      spin 1s steps(1) infinite;\n",
              "  }\n",
              "\n",
              "  @keyframes spin {\n",
              "    0% {\n",
              "      border-color: transparent;\n",
              "      border-bottom-color: var(--fill-color);\n",
              "      border-left-color: var(--fill-color);\n",
              "    }\n",
              "    20% {\n",
              "      border-color: transparent;\n",
              "      border-left-color: var(--fill-color);\n",
              "      border-top-color: var(--fill-color);\n",
              "    }\n",
              "    30% {\n",
              "      border-color: transparent;\n",
              "      border-left-color: var(--fill-color);\n",
              "      border-top-color: var(--fill-color);\n",
              "      border-right-color: var(--fill-color);\n",
              "    }\n",
              "    40% {\n",
              "      border-color: transparent;\n",
              "      border-right-color: var(--fill-color);\n",
              "      border-top-color: var(--fill-color);\n",
              "    }\n",
              "    60% {\n",
              "      border-color: transparent;\n",
              "      border-right-color: var(--fill-color);\n",
              "    }\n",
              "    80% {\n",
              "      border-color: transparent;\n",
              "      border-right-color: var(--fill-color);\n",
              "      border-bottom-color: var(--fill-color);\n",
              "    }\n",
              "    90% {\n",
              "      border-color: transparent;\n",
              "      border-bottom-color: var(--fill-color);\n",
              "    }\n",
              "  }\n",
              "</style>\n",
              "\n",
              "  <script>\n",
              "    async function quickchart(key) {\n",
              "      const quickchartButtonEl =\n",
              "        document.querySelector('#' + key + ' button');\n",
              "      quickchartButtonEl.disabled = true;  // To prevent multiple clicks.\n",
              "      quickchartButtonEl.classList.add('colab-df-spinner');\n",
              "      try {\n",
              "        const charts = await google.colab.kernel.invokeFunction(\n",
              "            'suggestCharts', [key], {});\n",
              "      } catch (error) {\n",
              "        console.error('Error during call to suggestCharts:', error);\n",
              "      }\n",
              "      quickchartButtonEl.classList.remove('colab-df-spinner');\n",
              "      quickchartButtonEl.classList.add('colab-df-quickchart-complete');\n",
              "    }\n",
              "    (() => {\n",
              "      let quickchartButtonEl =\n",
              "        document.querySelector('#df-ba85739d-6418-4917-9c1f-8ec49f9d26c7 button');\n",
              "      quickchartButtonEl.style.display =\n",
              "        google.colab.kernel.accessAllowed ? 'block' : 'none';\n",
              "    })();\n",
              "  </script>\n",
              "</div>\n",
              "    </div>\n",
              "  </div>\n"
            ]
          },
          "metadata": {},
          "execution_count": 5
        }
      ]
    },
    {
      "cell_type": "code",
      "source": [
        "plt.figure(figsize=(20,6))\n",
        "plt.plot(score_cor[\"imdb_score\"], label=\"IMDb Score\", color = \"black\", linewidth = 1)\n",
        "plt.plot(score_cor[\"tmdb_score\"], label=\"TMDB Score\", linewidth = 2)\n",
        "plt.title(\"IMDb Score vs TMDB Score\")\n",
        "plt.xlabel('Movie Index Number')\n",
        "plt.ylabel('Scores')\n",
        "plt.yticks(np.arange(0,10))\n",
        "plt.legend(loc='lower center')\n",
        "plt.scatter(18, 2.1, marker = 'o', color = 'red', zorder = 2)\n",
        "plt.scatter(18, 4.9, marker = 'o', color = 'red', zorder = 2)"
      ],
      "metadata": {
        "colab": {
          "base_uri": "https://localhost:8080/",
          "height": 495
        },
        "id": "v93aKxPueIHp",
        "outputId": "de48fa69-ffcd-4259-fede-a1f6ba1bcc73"
      },
      "execution_count": null,
      "outputs": [
        {
          "output_type": "execute_result",
          "data": {
            "text/plain": [
              "<matplotlib.collections.PathCollection at 0x7e319d8c5f30>"
            ]
          },
          "metadata": {},
          "execution_count": 24
        },
        {
          "output_type": "display_data",
          "data": {
            "text/plain": [
              "<Figure size 2000x600 with 1 Axes>"
            ],
            "image/png": "[encoded data removed]"
          },
          "metadata": {}
        }
      ]
    },
    {
      "cell_type": "code",
      "source": [
        "score_cor2 = \"\"\"\n",
        "            SELECT title, imdb_score, tmdb_score\n",
        "            FROM titles\n",
        "            WHERE title = \"Dostana\"\n",
        "            LIMIT 1\n",
        "            \"\"\" #There are two movies that have the same title, the one is a remake\n",
        "score_cor2 = pd.read_sql_query(score_cor2, conn)\n",
        "score_cor2"
      ],
      "metadata": {
        "colab": {
          "base_uri": "https://localhost:8080/",
          "height": 81
        },
        "id": "sGCvOWznnAS4",
        "outputId": "1d68e717-112d-4731-a61c-ce9084cccbb4"
      },
      "execution_count": null,
      "outputs": [
        {
          "output_type": "execute_result",
          "data": {
            "text/plain": [
              "     title  imdb_score  tmdb_score\n",
              "0  Dostana         2.1         4.9"
            ],
            "text/html": [
              "\n",
              "  <div id=\"df-8338ea83-c29b-4495-95d4-5545b70076ba\" class=\"colab-df-container\">\n",
              "    <div>\n",
              "<style scoped>\n",
              "    .dataframe tbody tr th:only-of-type {\n",
              "        vertical-align: middle;\n",
              "    }\n",
              "\n",
              "    .dataframe tbody tr th {\n",
              "        vertical-align: top;\n",
              "    }\n",
              "\n",
              "    .dataframe thead th {\n",
              "        text-align: right;\n",
              "    }\n",
              "</style>\n",
              "<table border=\"1\" class=\"dataframe\">\n",
              "  <thead>\n",
              "    <tr style=\"text-align: right;\">\n",
              "      <th></th>\n",
              "      <th>title</th>\n",
              "      <th>imdb_score</th>\n",
              "      <th>tmdb_score</th>\n",
              "    </tr>\n",
              "  </thead>\n",
              "  <tbody>\n",
              "    <tr>\n",
              "      <th>0</th>\n",
              "      <td>Dostana</td>\n",
              "      <td>2.1</td>\n",
              "      <td>4.9</td>\n",
              "    </tr>\n",
              "  </tbody>\n",
              "</table>\n",
              "</div>\n",
              "    <div class=\"colab-df-buttons\">\n",
              "\n",
              "  <div class=\"colab-df-container\">\n",
              "    <button class=\"colab-df-convert\" onclick=\"convertToInteractive('df-8338ea83-c29b-4495-95d4-5545b70076ba')\"\n",
              "            title=\"Convert this dataframe to an interactive table.\"\n",
              "            style=\"display:none;\">\n",
              "\n",
              "  <svg xmlns=\"http://www.w3.org/2000/svg\" height=\"24px\" viewBox=\"0 -960 960 960\">\n",
              "    <path d=\"M120-120v-720h720v720H120Zm60-500h600v-160H180v160Zm220 220h160v-160H400v160Zm0 220h160v-160H400v160ZM180-400h160v-160H180v160Zm440 0h160v-160H620v160ZM180-180h160v-160H180v160Zm440 0h160v-160H620v160Z\"/>\n",
              "  </svg>\n",
              "    </button>\n",
              "\n",
              "  <style>\n",
              "    .colab-df-container {\n",
              "      display:flex;\n",
              "      gap: 12px;\n",
              "    }\n",
              "\n",
              "    .colab-df-convert {\n",
              "      background-color: #E8F0FE;\n",
              "      border: none;\n",
              "      border-radius: 50%;\n",
              "      cursor: pointer;\n",
              "      display: none;\n",
              "      fill: #1967D2;\n",
              "      height: 32px;\n",
              "      padding: 0 0 0 0;\n",
              "      width: 32px;\n",
              "    }\n",
              "\n",
              "    .colab-df-convert:hover {\n",
              "      background-color: #E2EBFA;\n",
              "      box-shadow: 0px 1px 2px rgba(60, 64, 67, 0.3), 0px 1px 3px 1px rgba(60, 64, 67, 0.15);\n",
              "      fill: #174EA6;\n",
              "    }\n",
              "\n",
              "    .colab-df-buttons div {\n",
              "      margin-bottom: 4px;\n",
              "    }\n",
              "\n",
              "    [theme=dark] .colab-df-convert {\n",
              "      background-color: #3B4455;\n",
              "      fill: #D2E3FC;\n",
              "    }\n",
              "\n",
              "    [theme=dark] .colab-df-convert:hover {\n",
              "      background-color: #434B5C;\n",
              "      box-shadow: 0px 1px 3px 1px rgba(0, 0, 0, 0.15);\n",
              "      filter: drop-shadow(0px 1px 2px rgba(0, 0, 0, 0.3));\n",
              "      fill: #FFFFFF;\n",
              "    }\n",
              "  </style>\n",
              "\n",
              "    <script>\n",
              "      const buttonEl =\n",
              "        document.querySelector('#df-8338ea83-c29b-4495-95d4-5545b70076ba button.colab-df-convert');\n",
              "      buttonEl.style.display =\n",
              "        google.colab.kernel.accessAllowed ? 'block' : 'none';\n",
              "\n",
              "      async function convertToInteractive(key) {\n",
              "        const element = document.querySelector('#df-8338ea83-c29b-4495-95d4-5545b70076ba');\n",
              "        const dataTable =\n",
              "          await google.colab.kernel.invokeFunction('convertToInteractive',\n",
              "                                                    [key], {});\n",
              "        if (!dataTable) return;\n",
              "\n",
              "        const docLinkHtml = 'Like what you see? Visit the ' +\n",
              "          '<a target=\"_blank\" href=https://colab.research.google.com/notebooks/data_table.ipynb>data table notebook</a>'\n",
              "          + ' to learn more about interactive tables.';\n",
              "        element.innerHTML = '';\n",
              "        dataTable['output_type'] = 'display_data';\n",
              "        await google.colab.output.renderOutput(dataTable, element);\n",
              "        const docLink = document.createElement('div');\n",
              "        docLink.innerHTML = docLinkHtml;\n",
              "        element.appendChild(docLink);\n",
              "      }\n",
              "    </script>\n",
              "  </div>\n",
              "\n",
              "    </div>\n",
              "  </div>\n"
            ]
          },
          "metadata": {},
          "execution_count": 14
        }
      ]
    },
    {
      "cell_type": "code",
      "source": [
        "coefficient = score_cor.corr()\n",
        "coefficient"
      ],
      "metadata": {
        "colab": {
          "base_uri": "https://localhost:8080/",
          "height": 167
        },
        "id": "_1p2E51NfKMJ",
        "outputId": "86460baa-d680-4a88-b16d-8fa0246d6a96"
      },
      "execution_count": null,
      "outputs": [
        {
          "output_type": "stream",
          "name": "stderr",
          "text": [
            "<ipython-input-10-b2e79a4bc229>:1: FutureWarning: The default value of numeric_only in DataFrame.corr is deprecated. In a future version, it will default to False. Select only valid columns or specify the value of numeric_only to silence this warning.\n",
            "  coefficient = score_cor.corr()\n"
          ]
        },
        {
          "output_type": "execute_result",
          "data": {
            "text/plain": [
              "            imdb_score  tmdb_score\n",
              "imdb_score    1.000000    0.768331\n",
              "tmdb_score    0.768331    1.000000"
            ],
            "text/html": [
              "\n",
              "  <div id=\"df-7148cca9-e2d8-477d-af60-4354eac64919\" class=\"colab-df-container\">\n",
              "    <div>\n",
              "<style scoped>\n",
              "    .dataframe tbody tr th:only-of-type {\n",
              "        vertical-align: middle;\n",
              "    }\n",
              "\n",
              "    .dataframe tbody tr th {\n",
              "        vertical-align: top;\n",
              "    }\n",
              "\n",
              "    .dataframe thead th {\n",
              "        text-align: right;\n",
              "    }\n",
              "</style>\n",
              "<table border=\"1\" class=\"dataframe\">\n",
              "  <thead>\n",
              "    <tr style=\"text-align: right;\">\n",
              "      <th></th>\n",
              "      <th>imdb_score</th>\n",
              "      <th>tmdb_score</th>\n",
              "    </tr>\n",
              "  </thead>\n",
              "  <tbody>\n",
              "    <tr>\n",
              "      <th>imdb_score</th>\n",
              "      <td>1.000000</td>\n",
              "      <td>0.768331</td>\n",
              "    </tr>\n",
              "    <tr>\n",
              "      <th>tmdb_score</th>\n",
              "      <td>0.768331</td>\n",
              "      <td>1.000000</td>\n",
              "    </tr>\n",
              "  </tbody>\n",
              "</table>\n",
              "</div>\n",
              "    <div class=\"colab-df-buttons\">\n",
              "\n",
              "  <div class=\"colab-df-container\">\n",
              "    <button class=\"colab-df-convert\" onclick=\"convertToInteractive('df-7148cca9-e2d8-477d-af60-4354eac64919')\"\n",
              "            title=\"Convert this dataframe to an interactive table.\"\n",
              "            style=\"display:none;\">\n",
              "\n",
              "  <svg xmlns=\"http://www.w3.org/2000/svg\" height=\"24px\" viewBox=\"0 -960 960 960\">\n",
              "    <path d=\"M120-120v-720h720v720H120Zm60-500h600v-160H180v160Zm220 220h160v-160H400v160Zm0 220h160v-160H400v160ZM180-400h160v-160H180v160Zm440 0h160v-160H620v160ZM180-180h160v-160H180v160Zm440 0h160v-160H620v160Z\"/>\n",
              "  </svg>\n",
              "    </button>\n",
              "\n",
              "  <style>\n",
              "    .colab-df-container {\n",
              "      display:flex;\n",
              "      gap: 12px;\n",
              "    }\n",
              "\n",
              "    .colab-df-convert {\n",
              "      background-color: #E8F0FE;\n",
              "      border: none;\n",
              "      border-radius: 50%;\n",
              "      cursor: pointer;\n",
              "      display: none;\n",
              "      fill: #1967D2;\n",
              "      height: 32px;\n",
              "      padding: 0 0 0 0;\n",
              "      width: 32px;\n",
              "    }\n",
              "\n",
              "    .colab-df-convert:hover {\n",
              "      background-color: #E2EBFA;\n",
              "      box-shadow: 0px 1px 2px rgba(60, 64, 67, 0.3), 0px 1px 3px 1px rgba(60, 64, 67, 0.15);\n",
              "      fill: #174EA6;\n",
              "    }\n",
              "\n",
              "    .colab-df-buttons div {\n",
              "      margin-bottom: 4px;\n",
              "    }\n",
              "\n",
              "    [theme=dark] .colab-df-convert {\n",
              "      background-color: #3B4455;\n",
              "      fill: #D2E3FC;\n",
              "    }\n",
              "\n",
              "    [theme=dark] .colab-df-convert:hover {\n",
              "      background-color: #434B5C;\n",
              "      box-shadow: 0px 1px 3px 1px rgba(0, 0, 0, 0.15);\n",
              "      filter: drop-shadow(0px 1px 2px rgba(0, 0, 0, 0.3));\n",
              "      fill: #FFFFFF;\n",
              "    }\n",
              "  </style>\n",
              "\n",
              "    <script>\n",
              "      const buttonEl =\n",
              "        document.querySelector('#df-7148cca9-e2d8-477d-af60-4354eac64919 button.colab-df-convert');\n",
              "      buttonEl.style.display =\n",
              "        google.colab.kernel.accessAllowed ? 'block' : 'none';\n",
              "\n",
              "      async function convertToInteractive(key) {\n",
              "        const element = document.querySelector('#df-7148cca9-e2d8-477d-af60-4354eac64919');\n",
              "        const dataTable =\n",
              "          await google.colab.kernel.invokeFunction('convertToInteractive',\n",
              "                                                    [key], {});\n",
              "        if (!dataTable) return;\n",
              "\n",
              "        const docLinkHtml = 'Like what you see? Visit the ' +\n",
              "          '<a target=\"_blank\" href=https://colab.research.google.com/notebooks/data_table.ipynb>data table notebook</a>'\n",
              "          + ' to learn more about interactive tables.';\n",
              "        element.innerHTML = '';\n",
              "        dataTable['output_type'] = 'display_data';\n",
              "        await google.colab.output.renderOutput(dataTable, element);\n",
              "        const docLink = document.createElement('div');\n",
              "        docLink.innerHTML = docLinkHtml;\n",
              "        element.appendChild(docLink);\n",
              "      }\n",
              "    </script>\n",
              "  </div>\n",
              "\n",
              "\n",
              "<div id=\"df-2ea40a3c-224e-461f-8113-552baa811a03\">\n",
              "  <button class=\"colab-df-quickchart\" onclick=\"quickchart('df-2ea40a3c-224e-461f-8113-552baa811a03')\"\n",
              "            title=\"Suggest charts\"\n",
              "            style=\"display:none;\">\n",
              "\n",
              "<svg xmlns=\"http://www.w3.org/2000/svg\" height=\"24px\"viewBox=\"0 0 24 24\"\n",
              "     width=\"24px\">\n",
              "    <g>\n",
              "        <path d=\"M19 3H5c-1.1 0-2 .9-2 2v14c0 1.1.9 2 2 2h14c1.1 0 2-.9 2-2V5c0-1.1-.9-2-2-2zM9 17H7v-7h2v7zm4 0h-2V7h2v10zm4 0h-2v-4h2v4z\"/>\n",
              "    </g>\n",
              "</svg>\n",
              "  </button>\n",
              "\n",
              "<style>\n",
              "  .colab-df-quickchart {\n",
              "      --bg-color: #E8F0FE;\n",
              "      --fill-color: #1967D2;\n",
              "      --hover-bg-color: #E2EBFA;\n",
              "      --hover-fill-color: #174EA6;\n",
              "      --disabled-fill-color: #AAA;\n",
              "      --disabled-bg-color: #DDD;\n",
              "  }\n",
              "\n",
              "  [theme=dark] .colab-df-quickchart {\n",
              "      --bg-color: #3B4455;\n",
              "      --fill-color: #D2E3FC;\n",
              "      --hover-bg-color: #434B5C;\n",
              "      --hover-fill-color: #FFFFFF;\n",
              "      --disabled-bg-color: #3B4455;\n",
              "      --disabled-fill-color: #666;\n",
              "  }\n",
              "\n",
              "  .colab-df-quickchart {\n",
              "    background-color: var(--bg-color);\n",
              "    border: none;\n",
              "    border-radius: 50%;\n",
              "    cursor: pointer;\n",
              "    display: none;\n",
              "    fill: var(--fill-color);\n",
              "    height: 32px;\n",
              "    padding: 0;\n",
              "    width: 32px;\n",
              "  }\n",
              "\n",
              "  .colab-df-quickchart:hover {\n",
              "    background-color: var(--hover-bg-color);\n",
              "    box-shadow: 0 1px 2px rgba(60, 64, 67, 0.3), 0 1px 3px 1px rgba(60, 64, 67, 0.15);\n",
              "    fill: var(--button-hover-fill-color);\n",
              "  }\n",
              "\n",
              "  .colab-df-quickchart-complete:disabled,\n",
              "  .colab-df-quickchart-complete:disabled:hover {\n",
              "    background-color: var(--disabled-bg-color);\n",
              "    fill: var(--disabled-fill-color);\n",
              "    box-shadow: none;\n",
              "  }\n",
              "\n",
              "  .colab-df-spinner {\n",
              "    border: 2px solid var(--fill-color);\n",
              "    border-color: transparent;\n",
              "    border-bottom-color: var(--fill-color);\n",
              "    animation:\n",
              "      spin 1s steps(1) infinite;\n",
              "  }\n",
              "\n",
              "  @keyframes spin {\n",
              "    0% {\n",
              "      border-color: transparent;\n",
              "      border-bottom-color: var(--fill-color);\n",
              "      border-left-color: var(--fill-color);\n",
              "    }\n",
              "    20% {\n",
              "      border-color: transparent;\n",
              "      border-left-color: var(--fill-color);\n",
              "      border-top-color: var(--fill-color);\n",
              "    }\n",
              "    30% {\n",
              "      border-color: transparent;\n",
              "      border-left-color: var(--fill-color);\n",
              "      border-top-color: var(--fill-color);\n",
              "      border-right-color: var(--fill-color);\n",
              "    }\n",
              "    40% {\n",
              "      border-color: transparent;\n",
              "      border-right-color: var(--fill-color);\n",
              "      border-top-color: var(--fill-color);\n",
              "    }\n",
              "    60% {\n",
              "      border-color: transparent;\n",
              "      border-right-color: var(--fill-color);\n",
              "    }\n",
              "    80% {\n",
              "      border-color: transparent;\n",
              "      border-right-color: var(--fill-color);\n",
              "      border-bottom-color: var(--fill-color);\n",
              "    }\n",
              "    90% {\n",
              "      border-color: transparent;\n",
              "      border-bottom-color: var(--fill-color);\n",
              "    }\n",
              "  }\n",
              "</style>\n",
              "\n",
              "  <script>\n",
              "    async function quickchart(key) {\n",
              "      const quickchartButtonEl =\n",
              "        document.querySelector('#' + key + ' button');\n",
              "      quickchartButtonEl.disabled = true;  // To prevent multiple clicks.\n",
              "      quickchartButtonEl.classList.add('colab-df-spinner');\n",
              "      try {\n",
              "        const charts = await google.colab.kernel.invokeFunction(\n",
              "            'suggestCharts', [key], {});\n",
              "      } catch (error) {\n",
              "        console.error('Error during call to suggestCharts:', error);\n",
              "      }\n",
              "      quickchartButtonEl.classList.remove('colab-df-spinner');\n",
              "      quickchartButtonEl.classList.add('colab-df-quickchart-complete');\n",
              "    }\n",
              "    (() => {\n",
              "      let quickchartButtonEl =\n",
              "        document.querySelector('#df-2ea40a3c-224e-461f-8113-552baa811a03 button');\n",
              "      quickchartButtonEl.style.display =\n",
              "        google.colab.kernel.accessAllowed ? 'block' : 'none';\n",
              "    })();\n",
              "  </script>\n",
              "</div>\n",
              "    </div>\n",
              "  </div>\n"
            ]
          },
          "metadata": {},
          "execution_count": 10
        }
      ]
    },
    {
      "cell_type": "markdown",
      "source": [
        "###Analysis"
      ],
      "metadata": {
        "id": "NkbWFuwsfWBB"
      }
    },
    {
      "cell_type": "markdown",
      "source": [
        "This question was created to examine the differences betweeen IMDb scores and TMDB scores. A line graph was created to visualize how each of the two ratings compared to one another. The X-axis consists of the movie index number, and the Y-axis is the scores themselves. They are both on a ten point scale.\n",
        "\n",
        "It is clear just by looking at the graph that the two scores at least have some sort of correlation with each other, as they are typically plotted in pretty similar spots, with an exception being movie \"Dostana\", which is marked on the graph. There is a clear difference in score on that title, but other than that there is nothing signifantly notable. In order to find the actual correlation between the two types of scores a correlation was run to find a value of 0.768331. There are four categories that the correlation coefficient can fall between: No Correlation at 0.0, Low Positive Correlation at 0.3, High Positive Correlation at 0.8, and Perfect Positive Correlation at 1.0. The same is true for negative correlation, but the numbers are mirrored as a negative number.\n",
        "\n",
        "The correlation coefficient indicates that IMDb scores and TMDB scores are have a low positive correlation, but very close to having a high positive correlation. It makes sense that these two scores are moderatley correlated because they are created by people's opinions. Everyone's opinion varies somewhat, but there are universal factors that are key to a good movie. The combination of the scoring being subjective and there are common factors when making a good movie would back up the findings that the scores are moderately, positively correlated."
      ],
      "metadata": {
        "id": "CmpenkzVfgo2"
      }
    },
    {
      "cell_type": "markdown",
      "source": [
        "## What is the relationship between runtime and IMDb score for shows on Netflix? (Taylor)"
      ],
      "metadata": {
        "id": "0rvFD8qQHWFy"
      }
    },
    {
      "cell_type": "markdown",
      "source": [
        "### Code"
      ],
      "metadata": {
        "id": "kbhmbK7YuCbV"
      }
    },
    {
      "cell_type": "code",
      "source": [
        "sql_statement = \"\"\"\n",
        "                SELECT  *\n",
        "                FROM    titles\n",
        "                WHERE   type IS 'SHOW'\n",
        "                \"\"\"\n",
        "\n",
        "titles_all = pd.read_sql_query(sql_statement, conn)\n",
        "titles_all"
      ],
      "metadata": {
        "id": "RG7ezMHtShUQ"
      },
      "execution_count": null,
      "outputs": []
    },
    {
      "cell_type": "code",
      "source": [
        "plt.scatter(titles_all['runtime'], titles_all['imdb_score'])\n",
        "plt.title('TV Show Runtime (minutes) vs. IMDB score')\n",
        "plt.xlabel('runtime')\n",
        "plt.ylabel('imdb_score')\n"
      ],
      "metadata": {
        "id": "E-7Uc1vlSjD0"
      },
      "execution_count": null,
      "outputs": []
    },
    {
      "cell_type": "markdown",
      "source": [
        "### Analysis"
      ],
      "metadata": {
        "id": "khZnsQSbuG6_"
      }
    },
    {
      "cell_type": "markdown",
      "source": [
        "In this chart we asked the question: Is there a relationship between a TV Show's runtime and its score on IMDB.\n",
        "\n",
        "Each show was plotted on the scatterplot based on it's runtime (in minutes) and individual IMDB score.\n",
        "\n",
        "From this scatterplot, we are able to see that there doesn't appear to be a clear correlation between the two, with a major cluster across the <75 minutes section of the graph."
      ],
      "metadata": {
        "id": "d1oGSw1FuJFJ"
      }
    },
    {
      "cell_type": "markdown",
      "source": [
        "## What is the relationship between the number of seasons and the IMDB score for TV shows? (Taylor)"
      ],
      "metadata": {
        "id": "EiZuATnUy5yh"
      }
    },
    {
      "cell_type": "markdown",
      "source": [
        "### Code"
      ],
      "metadata": {
        "id": "MINSJBLMzAKv"
      }
    },
    {
      "cell_type": "code",
      "source": [
        "sql_statement = \"\"\"\n",
        "                SELECT    COUNT(id), imdb_score\n",
        "                FROM      titles\n",
        "                WHERE     type is 'SHOW' AND imdb_score IS NOT NULL AND seasons = 1.0\n",
        "                GROUP BY  imdb_score\n",
        "                \"\"\"\n",
        "\n",
        "show_titles = pd.read_sql_query(sql_statement, conn)\n",
        "show_titles"
      ],
      "metadata": {
        "id": "OfY5J6TVzDuu"
      },
      "execution_count": null,
      "outputs": []
    },
    {
      "cell_type": "code",
      "source": [
        "plt.bar(show_titles['imdb_score'], show_titles['COUNT(id)'])\n",
        "plt.title('Number of Shows per IMDB Score (1 Season)')\n",
        "plt.xlabel('IMDB Score')\n",
        "plt.xlim(0, 10)\n",
        "plt.ylabel('Number of Shows')\n"
      ],
      "metadata": {
        "id": "G-O4eiE2zM70"
      },
      "execution_count": null,
      "outputs": []
    },
    {
      "cell_type": "code",
      "source": [
        "sql_statement = \"\"\"\n",
        "                SELECT    COUNT(id), imdb_score\n",
        "                FROM      titles\n",
        "                WHERE     type is 'SHOW' AND imdb_score IS NOT NULL AND seasons != 1.0\n",
        "                GROUP BY  imdb_score\n",
        "                \"\"\"\n",
        "\n",
        "show_titles = pd.read_sql_query(sql_statement, conn)\n",
        "show_titles"
      ],
      "metadata": {
        "id": "W9W-lDE9zOnl"
      },
      "execution_count": null,
      "outputs": []
    },
    {
      "cell_type": "code",
      "source": [
        "plt.bar(show_titles['imdb_score'], show_titles['COUNT(id)'])\n",
        "plt.title('Number of Shows per IMDB Score (Multiple Seasons)')\n",
        "plt.xlabel('IMDB Score')\n",
        "plt.xlim(0, 10)\n",
        "plt.ylabel('Number of Shows')"
      ],
      "metadata": {
        "id": "-0iiSIoGzQGg"
      },
      "execution_count": null,
      "outputs": []
    },
    {
      "cell_type": "markdown",
      "source": [
        "###Analysis"
      ],
      "metadata": {
        "id": "vQmxUKubzR7d"
      }
    },
    {
      "cell_type": "markdown",
      "source": [
        "In this chart, we initially attempted to see if there was a correlation between the number of shows and the IMDB score listed on the dataset, however, due to the large amount of data we needed to divide up the data into two graphs -- Shows with a single season vs shows with multiple seasons -- in order to see a clearer graph.\n",
        "\n",
        "From this first graph (Shows with 1 Season), we are able to see a clear curve of the scores, with a majority of the shows landing an IMDB score between ~5-8. Of the 1,084 shows that only have a single season on Netflix, the average IMDB score is a 6.87.\n",
        "\n",
        "From the second graph (Shows with Multiple Seasons), we are able to see a similar distribution, however there is a higher average than the shows with a single season. Of the 855\tshows with more than one season on Netflix, the average IMDB score is a 7.1.\n",
        "\n",
        "From these two graphs, we are able to see that there is a slightly higher IMDB score average for shows with multiple seasons than there is for shows with a single season on Netflix."
      ],
      "metadata": {
        "id": "B069ZxxfzUhk"
      }
    },
    {
      "cell_type": "markdown",
      "source": [
        "## How many shows fall into different age certification categories? (Taylor)"
      ],
      "metadata": {
        "id": "3rkDXdDofQ2v"
      }
    },
    {
      "cell_type": "markdown",
      "source": [
        "### Code"
      ],
      "metadata": {
        "id": "lc1kcgmUt0lp"
      }
    },
    {
      "cell_type": "code",
      "source": [
        "sql_statement = \"\"\"\n",
        "                SELECT\n",
        "                    CASE\n",
        "                        WHEN  age_certification IS NULL THEN 'UNRATED'\n",
        "                        ELSE  age_certification\n",
        "                      END rating,\n",
        "                   COUNT(title)\n",
        "                FROM        titles\n",
        "                WHERE       type IS 'SHOW'\n",
        "                GROUP BY    age_certification\n",
        "                \"\"\"\n",
        "\n",
        "titles_rating = pd.read_sql_query(sql_statement, conn)\n",
        "titles_rating"
      ],
      "metadata": {
        "id": "2QCUbM_XtzlB"
      },
      "execution_count": null,
      "outputs": []
    },
    {
      "cell_type": "code",
      "source": [
        "plt.bar(titles_rating['rating'], titles_rating['COUNT(title)'])\n",
        "plt.xticks(rotation = 90)\n",
        "plt.title('Shows in Each Rating Category')\n",
        "plt.xlabel('Rating')\n",
        "plt.ylabel('Number of Titles')\n"
      ],
      "metadata": {
        "id": "_UMgWCwbt4vX"
      },
      "execution_count": null,
      "outputs": []
    },
    {
      "cell_type": "markdown",
      "source": [
        "### Analysis"
      ],
      "metadata": {
        "id": "-pfebqBmt5q9"
      }
    },
    {
      "cell_type": "markdown",
      "source": [
        "In this graph we asked which age certification rating category had the most shows. These ratings create a guideline for who the content is aimed for and are as follows: TV-Y for children, TV-Y7 for older children, TV-G for general audiences, TV-PG for parental guidance, TV-14 for parents strongly cautioned, and TV-MA for mature audiences. There are also a number shows that were not given a rating, and these were given an 'UNRATED' category for the purposes of the graph.\n",
        "\n",
        "From this graph we are able to see that TV-MA is the rating given to the most shows on Netflix, with 883 shows having this rating. This is followed by TV-14, with 474 shows; UNRATED, with 255 shows; TV-PG, with 188 shows; TV-Y7, with 120 shows; TV-Y with 107; and finally TV-G, with 79 shows.\n",
        "\n",
        "This shows that a majority of the content on Netflix is geared towards an older audience, with only a small minority geared towards children."
      ],
      "metadata": {
        "id": "t9ywLZ-zt9G7"
      }
    },
    {
      "cell_type": "markdown",
      "source": [
        "##How strong is the correlation between age certification and IMDb score? (Glenn)"
      ],
      "metadata": {
        "id": "eSAOJtkR5Y8r"
      }
    },
    {
      "cell_type": "markdown",
      "source": [
        "###Code"
      ],
      "metadata": {
        "id": "zL7ZtDbuABPE"
      }
    },
    {
      "cell_type": "code",
      "source": [
        "certification_index= \"\"\"\n",
        "                SELECT distinct(age_certification)\n",
        "                FROM titles\n",
        "                \"\"\"\n",
        "certification_index = pd.read_sql_query(certification_index, conn)\n",
        "certification_index"
      ],
      "metadata": {
        "colab": {
          "base_uri": "https://localhost:8080/"
        },
        "id": "3HVJS78i5YWj",
        "outputId": "a4f3aa3d-f3fb-4fd6-a466-955efaf498c6"
      },
      "execution_count": null,
      "outputs": [
        {
          "output_type": "execute_result",
          "data": {
            "text/plain": [
              "   age_certification\n",
              "0              TV-MA\n",
              "1                  R\n",
              "2                 PG\n",
              "3               None\n",
              "4              TV-14\n",
              "5              PG-13\n",
              "6              TV-PG\n",
              "7               TV-Y\n",
              "8               TV-G\n",
              "9              TV-Y7\n",
              "10                 G\n",
              "11             NC-17"
            ],
            "text/html": [
              "\n",
              "  <div id=\"df-67c75701-7c4f-4050-8a22-958d530ed117\" class=\"colab-df-container\">\n",
              "    <div>\n",
              "<style scoped>\n",
              "    .dataframe tbody tr th:only-of-type {\n",
              "        vertical-align: middle;\n",
              "    }\n",
              "\n",
              "    .dataframe tbody tr th {\n",
              "        vertical-align: top;\n",
              "    }\n",
              "\n",
              "    .dataframe thead th {\n",
              "        text-align: right;\n",
              "    }\n",
              "</style>\n",
              "<table border=\"1\" class=\"dataframe\">\n",
              "  <thead>\n",
              "    <tr style=\"text-align: right;\">\n",
              "      <th></th>\n",
              "      <th>age_certification</th>\n",
              "    </tr>\n",
              "  </thead>\n",
              "  <tbody>\n",
              "    <tr>\n",
              "      <th>0</th>\n",
              "      <td>TV-MA</td>\n",
              "    </tr>\n",
              "    <tr>\n",
              "      <th>1</th>\n",
              "      <td>R</td>\n",
              "    </tr>\n",
              "    <tr>\n",
              "      <th>2</th>\n",
              "      <td>PG</td>\n",
              "    </tr>\n",
              "    <tr>\n",
              "      <th>3</th>\n",
              "      <td>None</td>\n",
              "    </tr>\n",
              "    <tr>\n",
              "      <th>4</th>\n",
              "      <td>TV-14</td>\n",
              "    </tr>\n",
              "    <tr>\n",
              "      <th>5</th>\n",
              "      <td>PG-13</td>\n",
              "    </tr>\n",
              "    <tr>\n",
              "      <th>6</th>\n",
              "      <td>TV-PG</td>\n",
              "    </tr>\n",
              "    <tr>\n",
              "      <th>7</th>\n",
              "      <td>TV-Y</td>\n",
              "    </tr>\n",
              "    <tr>\n",
              "      <th>8</th>\n",
              "      <td>TV-G</td>\n",
              "    </tr>\n",
              "    <tr>\n",
              "      <th>9</th>\n",
              "      <td>TV-Y7</td>\n",
              "    </tr>\n",
              "    <tr>\n",
              "      <th>10</th>\n",
              "      <td>G</td>\n",
              "    </tr>\n",
              "    <tr>\n",
              "      <th>11</th>\n",
              "      <td>NC-17</td>\n",
              "    </tr>\n",
              "  </tbody>\n",
              "</table>\n",
              "</div>\n",
              "    <div class=\"colab-df-buttons\">\n",
              "\n",
              "  <div class=\"colab-df-container\">\n",
              "    <button class=\"colab-df-convert\" onclick=\"convertToInteractive('df-67c75701-7c4f-4050-8a22-958d530ed117')\"\n",
              "            title=\"Convert this dataframe to an interactive table.\"\n",
              "            style=\"display:none;\">\n",
              "\n",
              "  <svg xmlns=\"http://www.w3.org/2000/svg\" height=\"24px\" viewBox=\"0 -960 960 960\">\n",
              "    <path d=\"M120-120v-720h720v720H120Zm60-500h600v-160H180v160Zm220 220h160v-160H400v160Zm0 220h160v-160H400v160ZM180-400h160v-160H180v160Zm440 0h160v-160H620v160ZM180-180h160v-160H180v160Zm440 0h160v-160H620v160Z\"/>\n",
              "  </svg>\n",
              "    </button>\n",
              "\n",
              "  <style>\n",
              "    .colab-df-container {\n",
              "      display:flex;\n",
              "      gap: 12px;\n",
              "    }\n",
              "\n",
              "    .colab-df-convert {\n",
              "      background-color: #E8F0FE;\n",
              "      border: none;\n",
              "      border-radius: 50%;\n",
              "      cursor: pointer;\n",
              "      display: none;\n",
              "      fill: #1967D2;\n",
              "      height: 32px;\n",
              "      padding: 0 0 0 0;\n",
              "      width: 32px;\n",
              "    }\n",
              "\n",
              "    .colab-df-convert:hover {\n",
              "      background-color: #E2EBFA;\n",
              "      box-shadow: 0px 1px 2px rgba(60, 64, 67, 0.3), 0px 1px 3px 1px rgba(60, 64, 67, 0.15);\n",
              "      fill: #174EA6;\n",
              "    }\n",
              "\n",
              "    .colab-df-buttons div {\n",
              "      margin-bottom: 4px;\n",
              "    }\n",
              "\n",
              "    [theme=dark] .colab-df-convert {\n",
              "      background-color: #3B4455;\n",
              "      fill: #D2E3FC;\n",
              "    }\n",
              "\n",
              "    [theme=dark] .colab-df-convert:hover {\n",
              "      background-color: #434B5C;\n",
              "      box-shadow: 0px 1px 3px 1px rgba(0, 0, 0, 0.15);\n",
              "      filter: drop-shadow(0px 1px 2px rgba(0, 0, 0, 0.3));\n",
              "      fill: #FFFFFF;\n",
              "    }\n",
              "  </style>\n",
              "\n",
              "    <script>\n",
              "      const buttonEl =\n",
              "        document.querySelector('#df-67c75701-7c4f-4050-8a22-958d530ed117 button.colab-df-convert');\n",
              "      buttonEl.style.display =\n",
              "        google.colab.kernel.accessAllowed ? 'block' : 'none';\n",
              "\n",
              "      async function convertToInteractive(key) {\n",
              "        const element = document.querySelector('#df-67c75701-7c4f-4050-8a22-958d530ed117');\n",
              "        const dataTable =\n",
              "          await google.colab.kernel.invokeFunction('convertToInteractive',\n",
              "                                                    [key], {});\n",
              "        if (!dataTable) return;\n",
              "\n",
              "        const docLinkHtml = 'Like what you see? Visit the ' +\n",
              "          '<a target=\"_blank\" href=https://colab.research.google.com/notebooks/data_table.ipynb>data table notebook</a>'\n",
              "          + ' to learn more about interactive tables.';\n",
              "        element.innerHTML = '';\n",
              "        dataTable['output_type'] = 'display_data';\n",
              "        await google.colab.output.renderOutput(dataTable, element);\n",
              "        const docLink = document.createElement('div');\n",
              "        docLink.innerHTML = docLinkHtml;\n",
              "        element.appendChild(docLink);\n",
              "      }\n",
              "    </script>\n",
              "  </div>\n",
              "\n",
              "\n",
              "<div id=\"df-372ec1dc-ee34-43bc-b670-dca9430cf752\">\n",
              "  <button class=\"colab-df-quickchart\" onclick=\"quickchart('df-372ec1dc-ee34-43bc-b670-dca9430cf752')\"\n",
              "            title=\"Suggest charts\"\n",
              "            style=\"display:none;\">\n",
              "\n",
              "<svg xmlns=\"http://www.w3.org/2000/svg\" height=\"24px\"viewBox=\"0 0 24 24\"\n",
              "     width=\"24px\">\n",
              "    <g>\n",
              "        <path d=\"M19 3H5c-1.1 0-2 .9-2 2v14c0 1.1.9 2 2 2h14c1.1 0 2-.9 2-2V5c0-1.1-.9-2-2-2zM9 17H7v-7h2v7zm4 0h-2V7h2v10zm4 0h-2v-4h2v4z\"/>\n",
              "    </g>\n",
              "</svg>\n",
              "  </button>\n",
              "\n",
              "<style>\n",
              "  .colab-df-quickchart {\n",
              "      --bg-color: #E8F0FE;\n",
              "      --fill-color: #1967D2;\n",
              "      --hover-bg-color: #E2EBFA;\n",
              "      --hover-fill-color: #174EA6;\n",
              "      --disabled-fill-color: #AAA;\n",
              "      --disabled-bg-color: #DDD;\n",
              "  }\n",
              "\n",
              "  [theme=dark] .colab-df-quickchart {\n",
              "      --bg-color: #3B4455;\n",
              "      --fill-color: #D2E3FC;\n",
              "      --hover-bg-color: #434B5C;\n",
              "      --hover-fill-color: #FFFFFF;\n",
              "      --disabled-bg-color: #3B4455;\n",
              "      --disabled-fill-color: #666;\n",
              "  }\n",
              "\n",
              "  .colab-df-quickchart {\n",
              "    background-color: var(--bg-color);\n",
              "    border: none;\n",
              "    border-radius: 50%;\n",
              "    cursor: pointer;\n",
              "    display: none;\n",
              "    fill: var(--fill-color);\n",
              "    height: 32px;\n",
              "    padding: 0;\n",
              "    width: 32px;\n",
              "  }\n",
              "\n",
              "  .colab-df-quickchart:hover {\n",
              "    background-color: var(--hover-bg-color);\n",
              "    box-shadow: 0 1px 2px rgba(60, 64, 67, 0.3), 0 1px 3px 1px rgba(60, 64, 67, 0.15);\n",
              "    fill: var(--button-hover-fill-color);\n",
              "  }\n",
              "\n",
              "  .colab-df-quickchart-complete:disabled,\n",
              "  .colab-df-quickchart-complete:disabled:hover {\n",
              "    background-color: var(--disabled-bg-color);\n",
              "    fill: var(--disabled-fill-color);\n",
              "    box-shadow: none;\n",
              "  }\n",
              "\n",
              "  .colab-df-spinner {\n",
              "    border: 2px solid var(--fill-color);\n",
              "    border-color: transparent;\n",
              "    border-bottom-color: var(--fill-color);\n",
              "    animation:\n",
              "      spin 1s steps(1) infinite;\n",
              "  }\n",
              "\n",
              "  @keyframes spin {\n",
              "    0% {\n",
              "      border-color: transparent;\n",
              "      border-bottom-color: var(--fill-color);\n",
              "      border-left-color: var(--fill-color);\n",
              "    }\n",
              "    20% {\n",
              "      border-color: transparent;\n",
              "      border-left-color: var(--fill-color);\n",
              "      border-top-color: var(--fill-color);\n",
              "    }\n",
              "    30% {\n",
              "      border-color: transparent;\n",
              "      border-left-color: var(--fill-color);\n",
              "      border-top-color: var(--fill-color);\n",
              "      border-right-color: var(--fill-color);\n",
              "    }\n",
              "    40% {\n",
              "      border-color: transparent;\n",
              "      border-right-color: var(--fill-color);\n",
              "      border-top-color: var(--fill-color);\n",
              "    }\n",
              "    60% {\n",
              "      border-color: transparent;\n",
              "      border-right-color: var(--fill-color);\n",
              "    }\n",
              "    80% {\n",
              "      border-color: transparent;\n",
              "      border-right-color: var(--fill-color);\n",
              "      border-bottom-color: var(--fill-color);\n",
              "    }\n",
              "    90% {\n",
              "      border-color: transparent;\n",
              "      border-bottom-color: var(--fill-color);\n",
              "    }\n",
              "  }\n",
              "</style>\n",
              "\n",
              "  <script>\n",
              "    async function quickchart(key) {\n",
              "      const quickchartButtonEl =\n",
              "        document.querySelector('#' + key + ' button');\n",
              "      quickchartButtonEl.disabled = true;  // To prevent multiple clicks.\n",
              "      quickchartButtonEl.classList.add('colab-df-spinner');\n",
              "      try {\n",
              "        const charts = await google.colab.kernel.invokeFunction(\n",
              "            'suggestCharts', [key], {});\n",
              "      } catch (error) {\n",
              "        console.error('Error during call to suggestCharts:', error);\n",
              "      }\n",
              "      quickchartButtonEl.classList.remove('colab-df-spinner');\n",
              "      quickchartButtonEl.classList.add('colab-df-quickchart-complete');\n",
              "    }\n",
              "    (() => {\n",
              "      let quickchartButtonEl =\n",
              "        document.querySelector('#df-372ec1dc-ee34-43bc-b670-dca9430cf752 button');\n",
              "      quickchartButtonEl.style.display =\n",
              "        google.colab.kernel.accessAllowed ? 'block' : 'none';\n",
              "    })();\n",
              "  </script>\n",
              "</div>\n",
              "    </div>\n",
              "  </div>\n"
            ]
          },
          "metadata": {},
          "execution_count": 5
        }
      ]
    },
    {
      "cell_type": "code",
      "source": [
        "certification_cor =  \"\"\"\n",
        "                      SELECT title, age_certification, imdb_score,\n",
        "                      CASE\n",
        "                        WHEN age_certification = 'TV-MA' THEN 0\n",
        "                        WHEN age_certification = 'R' THEN 1\n",
        "                        WHEN age_certification = 'PG' THEN 2\n",
        "                        WHEN age_certification = 'None' THEN 3\n",
        "                        WHEN age_certification = 'TV-14' THEN 4\n",
        "                        WHEN age_certification = 'PG-13' THEN 5\n",
        "                        WHEN age_certification = 'TV-PG' THEN 6\n",
        "                        WHEN age_certification = 'TV-Y' THEN 7\n",
        "                        WHEN age_certification = 'TV-G' THEN 8\n",
        "                        WHEN age_certification = 'TV-Y7' THEN 9\n",
        "                        WHEN age_certification = 'G' THEN 10\n",
        "                        WHEN age_certification = 'NC-17' THEN 11\n",
        "                      END age_certification_indexnum\n",
        "                      FROM titles\n",
        "                      WHERE age_certification <> \"NaN\" AND tmdb_score <> \"NaN\"\n",
        "                      \"\"\"\n",
        "certification_cor = pd.read_sql_query(certification_cor, conn)\n",
        "certification_cor"
      ],
      "metadata": {
        "colab": {
          "base_uri": "https://localhost:8080/",
          "height": 423
        },
        "id": "3ajQiPje5lwf",
        "outputId": "24ba774d-7b94-4060-ed42-048b4eafd7bd"
      },
      "execution_count": null,
      "outputs": [
        {
          "output_type": "execute_result",
          "data": {
            "text/plain": [
              "                                          title age_certification  imdb_score  \\\n",
              "0                                   Taxi Driver                 R         8.2   \n",
              "1                                   Deliverance                 R         7.7   \n",
              "2               Monty Python and the Holy Grail                PG         8.2   \n",
              "3                  Monty Python's Flying Circus             TV-14         8.8   \n",
              "4                                 Life of Brian                 R         8.0   \n",
              "...                                         ...               ...         ...   \n",
              "3103                                Stuck Apart                 R         6.0   \n",
              "3104                We Are: The Brooklyn Saints             TV-14         6.5   \n",
              "3105         Alma Matters: Inside the IIT Dream             TV-MA         8.3   \n",
              "3106                              Pitta Kathalu             TV-MA         5.1   \n",
              "3107  Dad Stop Embarrassing Me - The Afterparty             PG-13         NaN   \n",
              "\n",
              "      age_certification_indexnum  \n",
              "0                              1  \n",
              "1                              1  \n",
              "2                              2  \n",
              "3                              4  \n",
              "4                              1  \n",
              "...                          ...  \n",
              "3103                           1  \n",
              "3104                           4  \n",
              "3105                           0  \n",
              "3106                           0  \n",
              "3107                           5  \n",
              "\n",
              "[3108 rows x 4 columns]"
            ],
            "text/html": [
              "\n",
              "  <div id=\"df-b0d34686-dd66-4754-a3c0-150644f39032\" class=\"colab-df-container\">\n",
              "    <div>\n",
              "<style scoped>\n",
              "    .dataframe tbody tr th:only-of-type {\n",
              "        vertical-align: middle;\n",
              "    }\n",
              "\n",
              "    .dataframe tbody tr th {\n",
              "        vertical-align: top;\n",
              "    }\n",
              "\n",
              "    .dataframe thead th {\n",
              "        text-align: right;\n",
              "    }\n",
              "</style>\n",
              "<table border=\"1\" class=\"dataframe\">\n",
              "  <thead>\n",
              "    <tr style=\"text-align: right;\">\n",
              "      <th></th>\n",
              "      <th>title</th>\n",
              "      <th>age_certification</th>\n",
              "      <th>imdb_score</th>\n",
              "      <th>age_certification_indexnum</th>\n",
              "    </tr>\n",
              "  </thead>\n",
              "  <tbody>\n",
              "    <tr>\n",
              "      <th>0</th>\n",
              "      <td>Taxi Driver</td>\n",
              "      <td>R</td>\n",
              "      <td>8.2</td>\n",
              "      <td>1</td>\n",
              "    </tr>\n",
              "    <tr>\n",
              "      <th>1</th>\n",
              "      <td>Deliverance</td>\n",
              "      <td>R</td>\n",
              "      <td>7.7</td>\n",
              "      <td>1</td>\n",
              "    </tr>\n",
              "    <tr>\n",
              "      <th>2</th>\n",
              "      <td>Monty Python and the Holy Grail</td>\n",
              "      <td>PG</td>\n",
              "      <td>8.2</td>\n",
              "      <td>2</td>\n",
              "    </tr>\n",
              "    <tr>\n",
              "      <th>3</th>\n",
              "      <td>Monty Python's Flying Circus</td>\n",
              "      <td>TV-14</td>\n",
              "      <td>8.8</td>\n",
              "      <td>4</td>\n",
              "    </tr>\n",
              "    <tr>\n",
              "      <th>4</th>\n",
              "      <td>Life of Brian</td>\n",
              "      <td>R</td>\n",
              "      <td>8.0</td>\n",
              "      <td>1</td>\n",
              "    </tr>\n",
              "    <tr>\n",
              "      <th>...</th>\n",
              "      <td>...</td>\n",
              "      <td>...</td>\n",
              "      <td>...</td>\n",
              "      <td>...</td>\n",
              "    </tr>\n",
              "    <tr>\n",
              "      <th>3103</th>\n",
              "      <td>Stuck Apart</td>\n",
              "      <td>R</td>\n",
              "      <td>6.0</td>\n",
              "      <td>1</td>\n",
              "    </tr>\n",
              "    <tr>\n",
              "      <th>3104</th>\n",
              "      <td>We Are: The Brooklyn Saints</td>\n",
              "      <td>TV-14</td>\n",
              "      <td>6.5</td>\n",
              "      <td>4</td>\n",
              "    </tr>\n",
              "    <tr>\n",
              "      <th>3105</th>\n",
              "      <td>Alma Matters: Inside the IIT Dream</td>\n",
              "      <td>TV-MA</td>\n",
              "      <td>8.3</td>\n",
              "      <td>0</td>\n",
              "    </tr>\n",
              "    <tr>\n",
              "      <th>3106</th>\n",
              "      <td>Pitta Kathalu</td>\n",
              "      <td>TV-MA</td>\n",
              "      <td>5.1</td>\n",
              "      <td>0</td>\n",
              "    </tr>\n",
              "    <tr>\n",
              "      <th>3107</th>\n",
              "      <td>Dad Stop Embarrassing Me - The Afterparty</td>\n",
              "      <td>PG-13</td>\n",
              "      <td>NaN</td>\n",
              "      <td>5</td>\n",
              "    </tr>\n",
              "  </tbody>\n",
              "</table>\n",
              "<p>3108 rows × 4 columns</p>\n",
              "</div>\n",
              "    <div class=\"colab-df-buttons\">\n",
              "\n",
              "  <div class=\"colab-df-container\">\n",
              "    <button class=\"colab-df-convert\" onclick=\"convertToInteractive('df-b0d34686-dd66-4754-a3c0-150644f39032')\"\n",
              "            title=\"Convert this dataframe to an interactive table.\"\n",
              "            style=\"display:none;\">\n",
              "\n",
              "  <svg xmlns=\"http://www.w3.org/2000/svg\" height=\"24px\" viewBox=\"0 -960 960 960\">\n",
              "    <path d=\"M120-120v-720h720v720H120Zm60-500h600v-160H180v160Zm220 220h160v-160H400v160Zm0 220h160v-160H400v160ZM180-400h160v-160H180v160Zm440 0h160v-160H620v160ZM180-180h160v-160H180v160Zm440 0h160v-160H620v160Z\"/>\n",
              "  </svg>\n",
              "    </button>\n",
              "\n",
              "  <style>\n",
              "    .colab-df-container {\n",
              "      display:flex;\n",
              "      gap: 12px;\n",
              "    }\n",
              "\n",
              "    .colab-df-convert {\n",
              "      background-color: #E8F0FE;\n",
              "      border: none;\n",
              "      border-radius: 50%;\n",
              "      cursor: pointer;\n",
              "      display: none;\n",
              "      fill: #1967D2;\n",
              "      height: 32px;\n",
              "      padding: 0 0 0 0;\n",
              "      width: 32px;\n",
              "    }\n",
              "\n",
              "    .colab-df-convert:hover {\n",
              "      background-color: #E2EBFA;\n",
              "      box-shadow: 0px 1px 2px rgba(60, 64, 67, 0.3), 0px 1px 3px 1px rgba(60, 64, 67, 0.15);\n",
              "      fill: #174EA6;\n",
              "    }\n",
              "\n",
              "    .colab-df-buttons div {\n",
              "      margin-bottom: 4px;\n",
              "    }\n",
              "\n",
              "    [theme=dark] .colab-df-convert {\n",
              "      background-color: #3B4455;\n",
              "      fill: #D2E3FC;\n",
              "    }\n",
              "\n",
              "    [theme=dark] .colab-df-convert:hover {\n",
              "      background-color: #434B5C;\n",
              "      box-shadow: 0px 1px 3px 1px rgba(0, 0, 0, 0.15);\n",
              "      filter: drop-shadow(0px 1px 2px rgba(0, 0, 0, 0.3));\n",
              "      fill: #FFFFFF;\n",
              "    }\n",
              "  </style>\n",
              "\n",
              "    <script>\n",
              "      const buttonEl =\n",
              "        document.querySelector('#df-b0d34686-dd66-4754-a3c0-150644f39032 button.colab-df-convert');\n",
              "      buttonEl.style.display =\n",
              "        google.colab.kernel.accessAllowed ? 'block' : 'none';\n",
              "\n",
              "      async function convertToInteractive(key) {\n",
              "        const element = document.querySelector('#df-b0d34686-dd66-4754-a3c0-150644f39032');\n",
              "        const dataTable =\n",
              "          await google.colab.kernel.invokeFunction('convertToInteractive',\n",
              "                                                    [key], {});\n",
              "        if (!dataTable) return;\n",
              "\n",
              "        const docLinkHtml = 'Like what you see? Visit the ' +\n",
              "          '<a target=\"_blank\" href=https://colab.research.google.com/notebooks/data_table.ipynb>data table notebook</a>'\n",
              "          + ' to learn more about interactive tables.';\n",
              "        element.innerHTML = '';\n",
              "        dataTable['output_type'] = 'display_data';\n",
              "        await google.colab.output.renderOutput(dataTable, element);\n",
              "        const docLink = document.createElement('div');\n",
              "        docLink.innerHTML = docLinkHtml;\n",
              "        element.appendChild(docLink);\n",
              "      }\n",
              "    </script>\n",
              "  </div>\n",
              "\n",
              "\n",
              "<div id=\"df-9830b844-9731-4108-9bf4-076edf0bc29e\">\n",
              "  <button class=\"colab-df-quickchart\" onclick=\"quickchart('df-9830b844-9731-4108-9bf4-076edf0bc29e')\"\n",
              "            title=\"Suggest charts\"\n",
              "            style=\"display:none;\">\n",
              "\n",
              "<svg xmlns=\"http://www.w3.org/2000/svg\" height=\"24px\"viewBox=\"0 0 24 24\"\n",
              "     width=\"24px\">\n",
              "    <g>\n",
              "        <path d=\"M19 3H5c-1.1 0-2 .9-2 2v14c0 1.1.9 2 2 2h14c1.1 0 2-.9 2-2V5c0-1.1-.9-2-2-2zM9 17H7v-7h2v7zm4 0h-2V7h2v10zm4 0h-2v-4h2v4z\"/>\n",
              "    </g>\n",
              "</svg>\n",
              "  </button>\n",
              "\n",
              "<style>\n",
              "  .colab-df-quickchart {\n",
              "      --bg-color: #E8F0FE;\n",
              "      --fill-color: #1967D2;\n",
              "      --hover-bg-color: #E2EBFA;\n",
              "      --hover-fill-color: #174EA6;\n",
              "      --disabled-fill-color: #AAA;\n",
              "      --disabled-bg-color: #DDD;\n",
              "  }\n",
              "\n",
              "  [theme=dark] .colab-df-quickchart {\n",
              "      --bg-color: #3B4455;\n",
              "      --fill-color: #D2E3FC;\n",
              "      --hover-bg-color: #434B5C;\n",
              "      --hover-fill-color: #FFFFFF;\n",
              "      --disabled-bg-color: #3B4455;\n",
              "      --disabled-fill-color: #666;\n",
              "  }\n",
              "\n",
              "  .colab-df-quickchart {\n",
              "    background-color: var(--bg-color);\n",
              "    border: none;\n",
              "    border-radius: 50%;\n",
              "    cursor: pointer;\n",
              "    display: none;\n",
              "    fill: var(--fill-color);\n",
              "    height: 32px;\n",
              "    padding: 0;\n",
              "    width: 32px;\n",
              "  }\n",
              "\n",
              "  .colab-df-quickchart:hover {\n",
              "    background-color: var(--hover-bg-color);\n",
              "    box-shadow: 0 1px 2px rgba(60, 64, 67, 0.3), 0 1px 3px 1px rgba(60, 64, 67, 0.15);\n",
              "    fill: var(--button-hover-fill-color);\n",
              "  }\n",
              "\n",
              "  .colab-df-quickchart-complete:disabled,\n",
              "  .colab-df-quickchart-complete:disabled:hover {\n",
              "    background-color: var(--disabled-bg-color);\n",
              "    fill: var(--disabled-fill-color);\n",
              "    box-shadow: none;\n",
              "  }\n",
              "\n",
              "  .colab-df-spinner {\n",
              "    border: 2px solid var(--fill-color);\n",
              "    border-color: transparent;\n",
              "    border-bottom-color: var(--fill-color);\n",
              "    animation:\n",
              "      spin 1s steps(1) infinite;\n",
              "  }\n",
              "\n",
              "  @keyframes spin {\n",
              "    0% {\n",
              "      border-color: transparent;\n",
              "      border-bottom-color: var(--fill-color);\n",
              "      border-left-color: var(--fill-color);\n",
              "    }\n",
              "    20% {\n",
              "      border-color: transparent;\n",
              "      border-left-color: var(--fill-color);\n",
              "      border-top-color: var(--fill-color);\n",
              "    }\n",
              "    30% {\n",
              "      border-color: transparent;\n",
              "      border-left-color: var(--fill-color);\n",
              "      border-top-color: var(--fill-color);\n",
              "      border-right-color: var(--fill-color);\n",
              "    }\n",
              "    40% {\n",
              "      border-color: transparent;\n",
              "      border-right-color: var(--fill-color);\n",
              "      border-top-color: var(--fill-color);\n",
              "    }\n",
              "    60% {\n",
              "      border-color: transparent;\n",
              "      border-right-color: var(--fill-color);\n",
              "    }\n",
              "    80% {\n",
              "      border-color: transparent;\n",
              "      border-right-color: var(--fill-color);\n",
              "      border-bottom-color: var(--fill-color);\n",
              "    }\n",
              "    90% {\n",
              "      border-color: transparent;\n",
              "      border-bottom-color: var(--fill-color);\n",
              "    }\n",
              "  }\n",
              "</style>\n",
              "\n",
              "  <script>\n",
              "    async function quickchart(key) {\n",
              "      const quickchartButtonEl =\n",
              "        document.querySelector('#' + key + ' button');\n",
              "      quickchartButtonEl.disabled = true;  // To prevent multiple clicks.\n",
              "      quickchartButtonEl.classList.add('colab-df-spinner');\n",
              "      try {\n",
              "        const charts = await google.colab.kernel.invokeFunction(\n",
              "            'suggestCharts', [key], {});\n",
              "      } catch (error) {\n",
              "        console.error('Error during call to suggestCharts:', error);\n",
              "      }\n",
              "      quickchartButtonEl.classList.remove('colab-df-spinner');\n",
              "      quickchartButtonEl.classList.add('colab-df-quickchart-complete');\n",
              "    }\n",
              "    (() => {\n",
              "      let quickchartButtonEl =\n",
              "        document.querySelector('#df-9830b844-9731-4108-9bf4-076edf0bc29e button');\n",
              "      quickchartButtonEl.style.display =\n",
              "        google.colab.kernel.accessAllowed ? 'block' : 'none';\n",
              "    })();\n",
              "  </script>\n",
              "</div>\n",
              "    </div>\n",
              "  </div>\n"
            ]
          },
          "metadata": {},
          "execution_count": 11
        }
      ]
    },
    {
      "cell_type": "code",
      "source": [
        "plt.figure(figsize=(20,5))\n",
        "plt.scatter(certification_cor['age_certification'],certification_cor['imdb_score'])\n",
        "plt.title('Age Certification vs. IMDb Score')\n",
        "plt.xlabel('Age Certification')\n",
        "plt.ylabel('IMDb Score')"
      ],
      "metadata": {
        "colab": {
          "base_uri": "https://localhost:8080/",
          "height": 431
        },
        "id": "2P0OvdCe5obS",
        "outputId": "21639023-d33d-414f-ef18-4d890e643e71"
      },
      "execution_count": null,
      "outputs": [
        {
          "output_type": "execute_result",
          "data": {
            "text/plain": [
              "Text(0, 0.5, 'IMDb Score')"
            ]
          },
          "metadata": {},
          "execution_count": 12
        },
        {
          "output_type": "display_data",
          "data": {
            "text/plain": [
              "<Figure size 2000x500 with 1 Axes>"
            ],
            "image/png": "[encoded data removed]"
          },
          "metadata": {}
        }
      ]
    },
    {
      "cell_type": "code",
      "source": [
        "certification_coef = certification_cor.corr()\n",
        "certification_coef"
      ],
      "metadata": {
        "colab": {
          "base_uri": "https://localhost:8080/",
          "height": 167
        },
        "id": "6jFmdfpy5-xT",
        "outputId": "00b20af5-32aa-46fa-82c3-99f44fe864ff"
      },
      "execution_count": null,
      "outputs": [
        {
          "output_type": "stream",
          "name": "stderr",
          "text": [
            "<ipython-input-13-c00781921c6d>:1: FutureWarning: The default value of numeric_only in DataFrame.corr is deprecated. In a future version, it will default to False. Select only valid columns or specify the value of numeric_only to silence this warning.\n",
            "  certification_coef = certification_cor.corr()\n"
          ]
        },
        {
          "output_type": "execute_result",
          "data": {
            "text/plain": [
              "                            imdb_score  age_certification_indexnum\n",
              "imdb_score                    1.000000                   -0.061592\n",
              "age_certification_indexnum   -0.061592                    1.000000"
            ],
            "text/html": [
              "\n",
              "  <div id=\"df-98caba44-63d8-45cd-933d-bb2c66916147\" class=\"colab-df-container\">\n",
              "    <div>\n",
              "<style scoped>\n",
              "    .dataframe tbody tr th:only-of-type {\n",
              "        vertical-align: middle;\n",
              "    }\n",
              "\n",
              "    .dataframe tbody tr th {\n",
              "        vertical-align: top;\n",
              "    }\n",
              "\n",
              "    .dataframe thead th {\n",
              "        text-align: right;\n",
              "    }\n",
              "</style>\n",
              "<table border=\"1\" class=\"dataframe\">\n",
              "  <thead>\n",
              "    <tr style=\"text-align: right;\">\n",
              "      <th></th>\n",
              "      <th>imdb_score</th>\n",
              "      <th>age_certification_indexnum</th>\n",
              "    </tr>\n",
              "  </thead>\n",
              "  <tbody>\n",
              "    <tr>\n",
              "      <th>imdb_score</th>\n",
              "      <td>1.000000</td>\n",
              "      <td>-0.061592</td>\n",
              "    </tr>\n",
              "    <tr>\n",
              "      <th>age_certification_indexnum</th>\n",
              "      <td>-0.061592</td>\n",
              "      <td>1.000000</td>\n",
              "    </tr>\n",
              "  </tbody>\n",
              "</table>\n",
              "</div>\n",
              "    <div class=\"colab-df-buttons\">\n",
              "\n",
              "  <div class=\"colab-df-container\">\n",
              "    <button class=\"colab-df-convert\" onclick=\"convertToInteractive('df-98caba44-63d8-45cd-933d-bb2c66916147')\"\n",
              "            title=\"Convert this dataframe to an interactive table.\"\n",
              "            style=\"display:none;\">\n",
              "\n",
              "  <svg xmlns=\"http://www.w3.org/2000/svg\" height=\"24px\" viewBox=\"0 -960 960 960\">\n",
              "    <path d=\"M120-120v-720h720v720H120Zm60-500h600v-160H180v160Zm220 220h160v-160H400v160Zm0 220h160v-160H400v160ZM180-400h160v-160H180v160Zm440 0h160v-160H620v160ZM180-180h160v-160H180v160Zm440 0h160v-160H620v160Z\"/>\n",
              "  </svg>\n",
              "    </button>\n",
              "\n",
              "  <style>\n",
              "    .colab-df-container {\n",
              "      display:flex;\n",
              "      gap: 12px;\n",
              "    }\n",
              "\n",
              "    .colab-df-convert {\n",
              "      background-color: #E8F0FE;\n",
              "      border: none;\n",
              "      border-radius: 50%;\n",
              "      cursor: pointer;\n",
              "      display: none;\n",
              "      fill: #1967D2;\n",
              "      height: 32px;\n",
              "      padding: 0 0 0 0;\n",
              "      width: 32px;\n",
              "    }\n",
              "\n",
              "    .colab-df-convert:hover {\n",
              "      background-color: #E2EBFA;\n",
              "      box-shadow: 0px 1px 2px rgba(60, 64, 67, 0.3), 0px 1px 3px 1px rgba(60, 64, 67, 0.15);\n",
              "      fill: #174EA6;\n",
              "    }\n",
              "\n",
              "    .colab-df-buttons div {\n",
              "      margin-bottom: 4px;\n",
              "    }\n",
              "\n",
              "    [theme=dark] .colab-df-convert {\n",
              "      background-color: #3B4455;\n",
              "      fill: #D2E3FC;\n",
              "    }\n",
              "\n",
              "    [theme=dark] .colab-df-convert:hover {\n",
              "      background-color: #434B5C;\n",
              "      box-shadow: 0px 1px 3px 1px rgba(0, 0, 0, 0.15);\n",
              "      filter: drop-shadow(0px 1px 2px rgba(0, 0, 0, 0.3));\n",
              "      fill: #FFFFFF;\n",
              "    }\n",
              "  </style>\n",
              "\n",
              "    <script>\n",
              "      const buttonEl =\n",
              "        document.querySelector('#df-98caba44-63d8-45cd-933d-bb2c66916147 button.colab-df-convert');\n",
              "      buttonEl.style.display =\n",
              "        google.colab.kernel.accessAllowed ? 'block' : 'none';\n",
              "\n",
              "      async function convertToInteractive(key) {\n",
              "        const element = document.querySelector('#df-98caba44-63d8-45cd-933d-bb2c66916147');\n",
              "        const dataTable =\n",
              "          await google.colab.kernel.invokeFunction('convertToInteractive',\n",
              "                                                    [key], {});\n",
              "        if (!dataTable) return;\n",
              "\n",
              "        const docLinkHtml = 'Like what you see? Visit the ' +\n",
              "          '<a target=\"_blank\" href=https://colab.research.google.com/notebooks/data_table.ipynb>data table notebook</a>'\n",
              "          + ' to learn more about interactive tables.';\n",
              "        element.innerHTML = '';\n",
              "        dataTable['output_type'] = 'display_data';\n",
              "        await google.colab.output.renderOutput(dataTable, element);\n",
              "        const docLink = document.createElement('div');\n",
              "        docLink.innerHTML = docLinkHtml;\n",
              "        element.appendChild(docLink);\n",
              "      }\n",
              "    </script>\n",
              "  </div>\n",
              "\n",
              "\n",
              "<div id=\"df-20dc95f6-3e9f-4201-823b-58b7512b57af\">\n",
              "  <button class=\"colab-df-quickchart\" onclick=\"quickchart('df-20dc95f6-3e9f-4201-823b-58b7512b57af')\"\n",
              "            title=\"Suggest charts\"\n",
              "            style=\"display:none;\">\n",
              "\n",
              "<svg xmlns=\"http://www.w3.org/2000/svg\" height=\"24px\"viewBox=\"0 0 24 24\"\n",
              "     width=\"24px\">\n",
              "    <g>\n",
              "        <path d=\"M19 3H5c-1.1 0-2 .9-2 2v14c0 1.1.9 2 2 2h14c1.1 0 2-.9 2-2V5c0-1.1-.9-2-2-2zM9 17H7v-7h2v7zm4 0h-2V7h2v10zm4 0h-2v-4h2v4z\"/>\n",
              "    </g>\n",
              "</svg>\n",
              "  </button>\n",
              "\n",
              "<style>\n",
              "  .colab-df-quickchart {\n",
              "      --bg-color: #E8F0FE;\n",
              "      --fill-color: #1967D2;\n",
              "      --hover-bg-color: #E2EBFA;\n",
              "      --hover-fill-color: #174EA6;\n",
              "      --disabled-fill-color: #AAA;\n",
              "      --disabled-bg-color: #DDD;\n",
              "  }\n",
              "\n",
              "  [theme=dark] .colab-df-quickchart {\n",
              "      --bg-color: #3B4455;\n",
              "      --fill-color: #D2E3FC;\n",
              "      --hover-bg-color: #434B5C;\n",
              "      --hover-fill-color: #FFFFFF;\n",
              "      --disabled-bg-color: #3B4455;\n",
              "      --disabled-fill-color: #666;\n",
              "  }\n",
              "\n",
              "  .colab-df-quickchart {\n",
              "    background-color: var(--bg-color);\n",
              "    border: none;\n",
              "    border-radius: 50%;\n",
              "    cursor: pointer;\n",
              "    display: none;\n",
              "    fill: var(--fill-color);\n",
              "    height: 32px;\n",
              "    padding: 0;\n",
              "    width: 32px;\n",
              "  }\n",
              "\n",
              "  .colab-df-quickchart:hover {\n",
              "    background-color: var(--hover-bg-color);\n",
              "    box-shadow: 0 1px 2px rgba(60, 64, 67, 0.3), 0 1px 3px 1px rgba(60, 64, 67, 0.15);\n",
              "    fill: var(--button-hover-fill-color);\n",
              "  }\n",
              "\n",
              "  .colab-df-quickchart-complete:disabled,\n",
              "  .colab-df-quickchart-complete:disabled:hover {\n",
              "    background-color: var(--disabled-bg-color);\n",
              "    fill: var(--disabled-fill-color);\n",
              "    box-shadow: none;\n",
              "  }\n",
              "\n",
              "  .colab-df-spinner {\n",
              "    border: 2px solid var(--fill-color);\n",
              "    border-color: transparent;\n",
              "    border-bottom-color: var(--fill-color);\n",
              "    animation:\n",
              "      spin 1s steps(1) infinite;\n",
              "  }\n",
              "\n",
              "  @keyframes spin {\n",
              "    0% {\n",
              "      border-color: transparent;\n",
              "      border-bottom-color: var(--fill-color);\n",
              "      border-left-color: var(--fill-color);\n",
              "    }\n",
              "    20% {\n",
              "      border-color: transparent;\n",
              "      border-left-color: var(--fill-color);\n",
              "      border-top-color: var(--fill-color);\n",
              "    }\n",
              "    30% {\n",
              "      border-color: transparent;\n",
              "      border-left-color: var(--fill-color);\n",
              "      border-top-color: var(--fill-color);\n",
              "      border-right-color: var(--fill-color);\n",
              "    }\n",
              "    40% {\n",
              "      border-color: transparent;\n",
              "      border-right-color: var(--fill-color);\n",
              "      border-top-color: var(--fill-color);\n",
              "    }\n",
              "    60% {\n",
              "      border-color: transparent;\n",
              "      border-right-color: var(--fill-color);\n",
              "    }\n",
              "    80% {\n",
              "      border-color: transparent;\n",
              "      border-right-color: var(--fill-color);\n",
              "      border-bottom-color: var(--fill-color);\n",
              "    }\n",
              "    90% {\n",
              "      border-color: transparent;\n",
              "      border-bottom-color: var(--fill-color);\n",
              "    }\n",
              "  }\n",
              "</style>\n",
              "\n",
              "  <script>\n",
              "    async function quickchart(key) {\n",
              "      const quickchartButtonEl =\n",
              "        document.querySelector('#' + key + ' button');\n",
              "      quickchartButtonEl.disabled = true;  // To prevent multiple clicks.\n",
              "      quickchartButtonEl.classList.add('colab-df-spinner');\n",
              "      try {\n",
              "        const charts = await google.colab.kernel.invokeFunction(\n",
              "            'suggestCharts', [key], {});\n",
              "      } catch (error) {\n",
              "        console.error('Error during call to suggestCharts:', error);\n",
              "      }\n",
              "      quickchartButtonEl.classList.remove('colab-df-spinner');\n",
              "      quickchartButtonEl.classList.add('colab-df-quickchart-complete');\n",
              "    }\n",
              "    (() => {\n",
              "      let quickchartButtonEl =\n",
              "        document.querySelector('#df-20dc95f6-3e9f-4201-823b-58b7512b57af button');\n",
              "      quickchartButtonEl.style.display =\n",
              "        google.colab.kernel.accessAllowed ? 'block' : 'none';\n",
              "    })();\n",
              "  </script>\n",
              "</div>\n",
              "    </div>\n",
              "  </div>\n"
            ]
          },
          "metadata": {},
          "execution_count": 13
        }
      ]
    },
    {
      "cell_type": "markdown",
      "source": [
        "###Analysis"
      ],
      "metadata": {
        "id": "qeA7k8GqAFl-"
      }
    },
    {
      "cell_type": "markdown",
      "source": [
        "The point of this graph was to explore weather or not there is a strong correlation between a movie's IMDb score and its age certification. To answer this question, a scatterplot was utilized to drop each movie title into a bucket of their age certification relative to their IMDb score. From this graph, the correlation between IMDb score and age certification had a result of about -.06. There are four categories that the correlation coefficient can fall between: No Correlation at 0.0, Low Negative Correlation at -0.3, High Negative Correlation at -0.8, and Perfect Negative Correlation at -1.0. The same is true for positive correlation, but the numbers are mirrored as a positive number.\n",
        "\n",
        "Because our correlation coefficient does not come close to approaching even a low negative correlation at -0.3, we can determine that the age certification has almost no correltion in how the movie is going to be scored. This is an interesting discovery because it could be percieved that the higher the age cerification, the more freedom a director has with the type of content they are able to produce, leading to better IMDb scores. According do our data, that is not the case."
      ],
      "metadata": {
        "id": "6AMt42bqALWH"
      }
    },
    {
      "cell_type": "markdown",
      "source": [
        "##What is the distribution of runtimes for movies on Netflix? (Nicole)\n"
      ],
      "metadata": {
        "id": "iYTP94ANtyXs"
      }
    },
    {
      "cell_type": "markdown",
      "source": [
        "###Code"
      ],
      "metadata": {
        "id": "ZpUeBMU6tyXy"
      }
    },
    {
      "cell_type": "code",
      "source": [
        "\n",
        "sql_statement = \"\"\"\n",
        "                SELECT  *\n",
        "                FROM    titles\n",
        "                WHERE   type IS 'MOVIE' AND type IS NOT NULL AND runtime IS NOT NULL\n",
        "                \"\"\"\n",
        "\n",
        "titles_all = pd.read_sql_query(sql_statement, conn)\n",
        "titles_all"
      ],
      "metadata": {
        "id": "E6eaKx5-uK9S"
      },
      "execution_count": null,
      "outputs": []
    },
    {
      "cell_type": "code",
      "source": [
        "counts, bins, patches =plt.hist(titles_all['runtime'], bins=np.arange(0, 226, 25), edgecolor='black')\n",
        "plt.title('Distribution of Runtime for Movies on Netflix')\n",
        "plt.xlabel('Runtime (minutes)')\n",
        "plt.ylabel('Frequency')\n",
        "plt.xticks(np.arange(0, 226, 25))\n",
        "plt.yticks(np.arange(0, 1201, 200))\n",
        "\n",
        "for count, bin, patch in zip(counts, bins, patches):\n",
        "    plt.text(bin + patch.get_width()/2, count, str(int(count)), ha='center', va='bottom')\n",
        "\n",
        "plt.show()"
      ],
      "metadata": {
        "id": "0B6R6NchuL5V"
      },
      "execution_count": null,
      "outputs": []
    },
    {
      "cell_type": "markdown",
      "source": [
        "###Analysis"
      ],
      "metadata": {
        "id": "HP89-M0ZtyXz"
      }
    },
    {
      "cell_type": "markdown",
      "source": [
        "To answer this question, a histogram was created to show the distribution of runtimes for movies on netflix. The x-axis shows the runtime in minutes and the y-axis shows the frequency. There are 1273 movies with a runtime between 75 and 100 minutes, and 1176 movies with a runtime between 100 and 125 minutes. This shows that the majority of titles (2449) have a runtime between 75 and 125 minutes. The histogram is a bell shaped histogram with most of the data concentrated in the middle and almost evenly tapering off to both sides.\n",
        "\n"
      ],
      "metadata": {
        "id": "voJX3RwvtyX0"
      }
    },
    {
      "cell_type": "markdown",
      "source": [
        "##What are the top production countries for Netflix content outside of the US? (Nicole)\n"
      ],
      "metadata": {
        "id": "TYLqvKOruTlN"
      }
    },
    {
      "cell_type": "markdown",
      "source": [
        "###Code"
      ],
      "metadata": {
        "id": "apKmV1gCuTlV"
      }
    },
    {
      "cell_type": "code",
      "source": [
        "sql_statement = \"\"\"\n",
        "                SELECT production_countries, COUNT(title) AS count\n",
        "                FROM titles\n",
        "                WHERE NOT production_countries = '[]'\n",
        "                GROUP BY production_countries\n",
        "                HAVING COUNT(title) < 600 -- Filter for groups with less than 600 titles\n",
        "                ORDER BY count DESC\n",
        "                LIMIT 10;\n",
        "                \"\"\"\n",
        "\n",
        "titles_all = pd.read_sql_query(sql_statement, conn)\n",
        "titles_all"
      ],
      "metadata": {
        "id": "klgzic2tuTlV"
      },
      "execution_count": null,
      "outputs": []
    },
    {
      "cell_type": "code",
      "source": [
        "plt.figure(figsize=(12, 8))\n",
        "bars = plt.bar(titles_all[\"production_countries\"], titles_all[\"count\"])\n",
        "plt.ylabel(\"Number of Titles\")\n",
        "plt.title(\"Top Production Countries of Netflix Content Outside of the US\")\n",
        "plt.xticks(fontsize=12)\n",
        "\n",
        "for bar in bars:\n",
        "    height = bar.get_height()\n",
        "    plt.text(bar.get_x() + bar.get_width() / 2, height + 5, str(height), ha=\"center\", va=\"bottom\")\n",
        "\n",
        "plt.show()"
      ],
      "metadata": {
        "id": "JAOrHHAruTlW"
      },
      "execution_count": null,
      "outputs": []
    },
    {
      "cell_type": "markdown",
      "source": [
        "###Analysis"
      ],
      "metadata": {
        "id": "jSzaiHO7uTlW"
      }
    },
    {
      "cell_type": "markdown",
      "source": [
        "To answer this question, a bar graph was created to show the top production countries outside of the US. The United States was not included in this bar graph because the overwhelming majority of content on Netflix was produced in the US.  First, a query was run to find the number of titles that were produced in each country excluding the US. The number of titles were grouped by country, and limited to the top 10 countries with the most number of titles. The x-axis shows the countries and the y-axis shows the number of titles. The countries are ordered from highest to lowest number of titles. India is the top production country outside of the United States with 599 titles, followed by the UK with 264 titles and Japan with 222 titles.\n",
        "\n"
      ],
      "metadata": {
        "id": "Y--fUL_MuTlW"
      }
    },
    {
      "cell_type": "markdown",
      "source": [
        "##How does the runtime vary by the release year of the movie? (Nicole)\n",
        "\n"
      ],
      "metadata": {
        "id": "aYPVAudUviNB"
      }
    },
    {
      "cell_type": "markdown",
      "source": [
        "###Code"
      ],
      "metadata": {
        "id": "-42BB89KviNH"
      }
    },
    {
      "cell_type": "code",
      "source": [
        "sql_statement = \"\"\"\n",
        "                SELECT AVG(runtime) AS avg_runtime, release_year\n",
        "                FROM titles\n",
        "                WHERE type = 'MOVIE'\n",
        "                GROUP BY release_year\n",
        "                ORDER BY release_year;\n",
        "                \"\"\"\n",
        "\n",
        "titles_all = pd.read_sql_query(sql_statement, conn)\n",
        "titles_all"
      ],
      "metadata": {
        "id": "x6gpUJbTviNH"
      },
      "execution_count": null,
      "outputs": []
    },
    {
      "cell_type": "code",
      "source": [
        "a, b = np.polyfit(titles_all[\"release_year\"], titles_all[\"avg_runtime\"], 1)\n",
        "\n",
        "plt.scatter(titles_all[\"release_year\"], titles_all[\"avg_runtime\"])\n",
        "plt.plot(titles_all[\"release_year\"], a*titles_all[\"release_year\"] + b, color='red',linewidth=2)\n",
        "plt.xlabel(\"Release Year\")\n",
        "plt.ylabel(\"Average Runtime\")\n",
        "plt.title(\"Release Year and Average Runtime for Movies\")\n",
        "\n",
        "plt.show()"
      ],
      "metadata": {
        "id": "gE47RH-4viNH"
      },
      "execution_count": null,
      "outputs": []
    },
    {
      "cell_type": "markdown",
      "source": [
        "###Analysis"
      ],
      "metadata": {
        "id": "ph5xLa2dviNH"
      }
    },
    {
      "cell_type": "markdown",
      "source": [
        "To answer this question, a scatter plot with a line graph was created to show the relationship between the average runtime and the release year of the movie. The x-axis shows the release years for movies, ranging from 1960 to 2020. Each point plotted represents the average run time of all the movies released in that specific year. The y-axis shows the average runtime for movies, ranging from 80 minutes to 180 minutes. The trend line is red and suggests that the average runtime for movies has decreased over time. The data points are blue and are scattered around the trend line. Throughout 1960 and 2000, movie runtimes varied more but averaged around 120 minutes. From 2005 to 2020, the average runtime of movies in each year was below 120 minutes."
      ],
      "metadata": {
        "id": "R2DGsCQ6viNI"
      }
    },
    {
      "cell_type": "markdown",
      "source": [
        "# Conclusion"
      ],
      "metadata": {
        "id": "uVH4I0Eo5chf"
      }
    },
    {
      "cell_type": "markdown",
      "source": [
        "From the data we analyzed, we were able to answer many different questions about the TV shows and movies that are available on Netflix. For example, we were able to see different relationships between IMDB scores and show runtimes and amount of seasons, runtime distributions, TMDB vs IMDB scores, age certification distributions, which country produced the most titles, as well as variations in movie runtimes.\n",
        "\n",
        "We found out that there is a low positive correlation between TMDB and IMDB scores for the titles on Netflix, which lead us to believe that while opinions may vary slightly, the majority of people are able to agree on a movie rating.\n",
        "\n",
        "We were also able to answer several questions regarding runtime relationships. For example, we found that the average movie runtime was between 75 and 125 minutes. Additionally, we found that the average movie runtime has gone down slightly over the years (from 1960 to 2020).\n",
        "\n",
        "We also looked into relationships with age certifications and found the distributions of shows per category as well analyzed the relationship between age certification and IMDB scores -- which we found to have almost no correlation between each other.\n",
        "\n",
        "Overall, the dataset we chose was very interesting to look at and create questions and visualizations for. It was very interesting to analyze the different relationships for the titles on Netflix."
      ],
      "metadata": {
        "id": "FovAuBBN5eJ2"
      }
    }
  ]
}